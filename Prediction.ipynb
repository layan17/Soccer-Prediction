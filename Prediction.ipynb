{
  "nbformat": 4,
  "nbformat_minor": 0,
  "metadata": {
    "colab": {
      "name": "Untitled0.ipynb",
      "version": "0.3.2",
      "provenance": [],
      "collapsed_sections": [],
      "include_colab_link": true
    },
    "kernelspec": {
      "name": "python3",
      "display_name": "Python 3"
    }
  },
  "cells": [
    {
      "cell_type": "markdown",
      "metadata": {
        "id": "view-in-github",
        "colab_type": "text"
      },
      "source": [
        "<a href=\"https://colab.research.google.com/github/layan17/Soccer-Prediction/blob/master/Prediction.ipynb\" target=\"_parent\"><img src=\"https://colab.research.google.com/assets/colab-badge.svg\" alt=\"Open In Colab\"/></a>"
      ]
    },
    {
      "metadata": {
        "id": "hPW1mbJ6y2Wp",
        "colab_type": "text"
      },
      "cell_type": "markdown",
      "source": [
        "###Upload the Raw Data\n"
      ]
    },
    {
      "metadata": {
        "id": "ROh0Plv_yt7q",
        "colab_type": "code",
        "outputId": "8b294a0d-974d-435c-abd9-49bc72217d2e",
        "colab": {
          "resources": {
            "http://localhost:8080/nbextensions/google.colab/files.js": {
              "data": "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",
              "ok": true,
              "headers": [
                [
                  "content-type",
                  "application/javascript"
                ]
              ],
              "status": 200,
              "status_text": ""
            }
          },
          "base_uri": "https://localhost:8080/",
          "height": 91
        }
      },
      "cell_type": "code",
      "source": [
        "from google.colab import files\n",
        "\n",
        "uploaded = files.upload()\n",
        "\n",
        "for fn in uploaded.keys():\n",
        "  print('User uploaded file \"{name}\" with length {length} bytes'.format(\n",
        "      name=fn, length=len(uploaded[fn])))"
      ],
      "execution_count": 3,
      "outputs": [
        {
          "output_type": "display_data",
          "data": {
            "text/html": [
              "\n",
              "     <input type=\"file\" id=\"files-eba2edc0-f7c6-422d-beb3-b1f53b2587c8\" name=\"files[]\" multiple disabled />\n",
              "     <output id=\"result-eba2edc0-f7c6-422d-beb3-b1f53b2587c8\">\n",
              "      Upload widget is only available when the cell has been executed in the\n",
              "      current browser session. Please rerun this cell to enable.\n",
              "      </output>\n",
              "      <script src=\"/nbextensions/google.colab/files.js\"></script> "
            ],
            "text/plain": [
              "<IPython.core.display.HTML object>"
            ]
          },
          "metadata": {
            "tags": []
          }
        },
        {
          "output_type": "stream",
          "text": [
            "Saving soccer.csv to soccer.csv\n",
            "User uploaded file \"soccer.csv\" with length 38701 bytes\n"
          ],
          "name": "stdout"
        }
      ]
    },
    {
      "metadata": {
        "id": "lYUPJ5FLz82n",
        "colab_type": "text"
      },
      "cell_type": "markdown",
      "source": [
        "###Reading our imported data"
      ]
    },
    {
      "metadata": {
        "id": "n1fh-DW8zA8M",
        "colab_type": "code",
        "outputId": "13391f51-2645-4ad9-8506-36a0dd22f9fa",
        "colab": {
          "base_uri": "https://localhost:8080/",
          "height": 200
        }
      },
      "cell_type": "code",
      "source": [
        "import pandas as pd\n",
        "\n",
        "df = pd.read_csv(\"soccer.csv\")\n",
        "df.head()\n"
      ],
      "execution_count": 4,
      "outputs": [
        {
          "output_type": "execute_result",
          "data": {
            "text/html": [
              "<div>\n",
              "<style scoped>\n",
              "    .dataframe tbody tr th:only-of-type {\n",
              "        vertical-align: middle;\n",
              "    }\n",
              "\n",
              "    .dataframe tbody tr th {\n",
              "        vertical-align: top;\n",
              "    }\n",
              "\n",
              "    .dataframe thead th {\n",
              "        text-align: right;\n",
              "    }\n",
              "</style>\n",
              "<table border=\"1\" class=\"dataframe\">\n",
              "  <thead>\n",
              "    <tr style=\"text-align: right;\">\n",
              "      <th></th>\n",
              "      <th>Date</th>\n",
              "      <th>HomeTeam</th>\n",
              "      <th>AwayTeam</th>\n",
              "      <th>FTHomeGoal</th>\n",
              "      <th>FTAwayGoal</th>\n",
              "      <th>FTResult</th>\n",
              "      <th>HalfTHG</th>\n",
              "      <th>HalfTAG</th>\n",
              "      <th>HalfTR</th>\n",
              "    </tr>\n",
              "  </thead>\n",
              "  <tbody>\n",
              "    <tr>\n",
              "      <th>0</th>\n",
              "      <td>10/8/2018</td>\n",
              "      <td>Man United</td>\n",
              "      <td>Leicester</td>\n",
              "      <td>2</td>\n",
              "      <td>1</td>\n",
              "      <td>H</td>\n",
              "      <td>1</td>\n",
              "      <td>0</td>\n",
              "      <td>H</td>\n",
              "    </tr>\n",
              "    <tr>\n",
              "      <th>1</th>\n",
              "      <td>11/8/2018</td>\n",
              "      <td>Bournemouth</td>\n",
              "      <td>Cardiff</td>\n",
              "      <td>2</td>\n",
              "      <td>0</td>\n",
              "      <td>H</td>\n",
              "      <td>1</td>\n",
              "      <td>0</td>\n",
              "      <td>H</td>\n",
              "    </tr>\n",
              "    <tr>\n",
              "      <th>2</th>\n",
              "      <td>11/8/2018</td>\n",
              "      <td>Fulham</td>\n",
              "      <td>Crystal Palace</td>\n",
              "      <td>0</td>\n",
              "      <td>2</td>\n",
              "      <td>A</td>\n",
              "      <td>0</td>\n",
              "      <td>1</td>\n",
              "      <td>A</td>\n",
              "    </tr>\n",
              "    <tr>\n",
              "      <th>3</th>\n",
              "      <td>11/8/2018</td>\n",
              "      <td>Huddersfield</td>\n",
              "      <td>Chelsea</td>\n",
              "      <td>0</td>\n",
              "      <td>3</td>\n",
              "      <td>A</td>\n",
              "      <td>0</td>\n",
              "      <td>2</td>\n",
              "      <td>A</td>\n",
              "    </tr>\n",
              "    <tr>\n",
              "      <th>4</th>\n",
              "      <td>11/8/2018</td>\n",
              "      <td>Newcastle</td>\n",
              "      <td>Tottenham</td>\n",
              "      <td>1</td>\n",
              "      <td>2</td>\n",
              "      <td>A</td>\n",
              "      <td>1</td>\n",
              "      <td>2</td>\n",
              "      <td>A</td>\n",
              "    </tr>\n",
              "  </tbody>\n",
              "</table>\n",
              "</div>"
            ],
            "text/plain": [
              "        Date      HomeTeam        AwayTeam  FTHomeGoal  FTAwayGoal FTResult  \\\n",
              "0  10/8/2018    Man United       Leicester           2           1        H   \n",
              "1  11/8/2018   Bournemouth         Cardiff           2           0        H   \n",
              "2  11/8/2018        Fulham  Crystal Palace           0           2        A   \n",
              "3  11/8/2018  Huddersfield         Chelsea           0           3        A   \n",
              "4  11/8/2018     Newcastle       Tottenham           1           2        A   \n",
              "\n",
              "   HalfTHG  HalfTAG HalfTR  \n",
              "0        1        0      H  \n",
              "1        1        0      H  \n",
              "2        0        1      A  \n",
              "3        0        2      A  \n",
              "4        1        2      A  "
            ]
          },
          "metadata": {
            "tags": []
          },
          "execution_count": 4
        }
      ]
    },
    {
      "metadata": {
        "id": "ORWliqrN36QQ",
        "colab_type": "text"
      },
      "cell_type": "markdown",
      "source": [
        "###Change H = 1, A = 0, D = 2"
      ]
    },
    {
      "metadata": {
        "id": "GTa6MO8D0ODG",
        "colab_type": "code",
        "colab": {}
      },
      "cell_type": "code",
      "source": [
        "def HalfTR_toNumber(x):\n",
        "  if x == 'H':\n",
        "    return 1\n",
        "  if x == 'A':\n",
        "    return -1\n",
        "  if x == 'D':\n",
        "    return 0\n",
        "  \n",
        " "
      ],
      "execution_count": 0,
      "outputs": []
    },
    {
      "metadata": {
        "id": "5PoizeyL1xv3",
        "colab_type": "code",
        "outputId": "bda7ec92-01c0-4445-c910-467d8096e0af",
        "colab": {
          "base_uri": "https://localhost:8080/",
          "height": 200
        }
      },
      "cell_type": "code",
      "source": [
        "df['Trans_HalfTR'] =  df['HalfTR'].apply(HalfTR_toNumber)\n",
        "df['Trans_FTResult'] =  df['FTResult'].apply(HalfTR_toNumber)\n",
        "df.head()"
      ],
      "execution_count": 6,
      "outputs": [
        {
          "output_type": "execute_result",
          "data": {
            "text/html": [
              "<div>\n",
              "<style scoped>\n",
              "    .dataframe tbody tr th:only-of-type {\n",
              "        vertical-align: middle;\n",
              "    }\n",
              "\n",
              "    .dataframe tbody tr th {\n",
              "        vertical-align: top;\n",
              "    }\n",
              "\n",
              "    .dataframe thead th {\n",
              "        text-align: right;\n",
              "    }\n",
              "</style>\n",
              "<table border=\"1\" class=\"dataframe\">\n",
              "  <thead>\n",
              "    <tr style=\"text-align: right;\">\n",
              "      <th></th>\n",
              "      <th>Date</th>\n",
              "      <th>HomeTeam</th>\n",
              "      <th>AwayTeam</th>\n",
              "      <th>FTHomeGoal</th>\n",
              "      <th>FTAwayGoal</th>\n",
              "      <th>FTResult</th>\n",
              "      <th>HalfTHG</th>\n",
              "      <th>HalfTAG</th>\n",
              "      <th>HalfTR</th>\n",
              "      <th>Trans_HalfTR</th>\n",
              "      <th>Trans_FTResult</th>\n",
              "    </tr>\n",
              "  </thead>\n",
              "  <tbody>\n",
              "    <tr>\n",
              "      <th>0</th>\n",
              "      <td>10/8/2018</td>\n",
              "      <td>Man United</td>\n",
              "      <td>Leicester</td>\n",
              "      <td>2</td>\n",
              "      <td>1</td>\n",
              "      <td>H</td>\n",
              "      <td>1</td>\n",
              "      <td>0</td>\n",
              "      <td>H</td>\n",
              "      <td>1</td>\n",
              "      <td>1</td>\n",
              "    </tr>\n",
              "    <tr>\n",
              "      <th>1</th>\n",
              "      <td>11/8/2018</td>\n",
              "      <td>Bournemouth</td>\n",
              "      <td>Cardiff</td>\n",
              "      <td>2</td>\n",
              "      <td>0</td>\n",
              "      <td>H</td>\n",
              "      <td>1</td>\n",
              "      <td>0</td>\n",
              "      <td>H</td>\n",
              "      <td>1</td>\n",
              "      <td>1</td>\n",
              "    </tr>\n",
              "    <tr>\n",
              "      <th>2</th>\n",
              "      <td>11/8/2018</td>\n",
              "      <td>Fulham</td>\n",
              "      <td>Crystal Palace</td>\n",
              "      <td>0</td>\n",
              "      <td>2</td>\n",
              "      <td>A</td>\n",
              "      <td>0</td>\n",
              "      <td>1</td>\n",
              "      <td>A</td>\n",
              "      <td>-1</td>\n",
              "      <td>-1</td>\n",
              "    </tr>\n",
              "    <tr>\n",
              "      <th>3</th>\n",
              "      <td>11/8/2018</td>\n",
              "      <td>Huddersfield</td>\n",
              "      <td>Chelsea</td>\n",
              "      <td>0</td>\n",
              "      <td>3</td>\n",
              "      <td>A</td>\n",
              "      <td>0</td>\n",
              "      <td>2</td>\n",
              "      <td>A</td>\n",
              "      <td>-1</td>\n",
              "      <td>-1</td>\n",
              "    </tr>\n",
              "    <tr>\n",
              "      <th>4</th>\n",
              "      <td>11/8/2018</td>\n",
              "      <td>Newcastle</td>\n",
              "      <td>Tottenham</td>\n",
              "      <td>1</td>\n",
              "      <td>2</td>\n",
              "      <td>A</td>\n",
              "      <td>1</td>\n",
              "      <td>2</td>\n",
              "      <td>A</td>\n",
              "      <td>-1</td>\n",
              "      <td>-1</td>\n",
              "    </tr>\n",
              "  </tbody>\n",
              "</table>\n",
              "</div>"
            ],
            "text/plain": [
              "        Date      HomeTeam        AwayTeam  FTHomeGoal  FTAwayGoal FTResult  \\\n",
              "0  10/8/2018    Man United       Leicester           2           1        H   \n",
              "1  11/8/2018   Bournemouth         Cardiff           2           0        H   \n",
              "2  11/8/2018        Fulham  Crystal Palace           0           2        A   \n",
              "3  11/8/2018  Huddersfield         Chelsea           0           3        A   \n",
              "4  11/8/2018     Newcastle       Tottenham           1           2        A   \n",
              "\n",
              "   HalfTHG  HalfTAG HalfTR  Trans_HalfTR  Trans_FTResult  \n",
              "0        1        0      H             1               1  \n",
              "1        1        0      H             1               1  \n",
              "2        0        1      A            -1              -1  \n",
              "3        0        2      A            -1              -1  \n",
              "4        1        2      A            -1              -1  "
            ]
          },
          "metadata": {
            "tags": []
          },
          "execution_count": 6
        }
      ]
    },
    {
      "metadata": {
        "id": "izESueVs7n3l",
        "colab_type": "text"
      },
      "cell_type": "markdown",
      "source": [
        "###Dropping the FTResult and  HalfTR column"
      ]
    },
    {
      "metadata": {
        "id": "N9_yesSy7bV_",
        "colab_type": "code",
        "colab": {}
      },
      "cell_type": "code",
      "source": [
        "df.drop(['FTResult'], axis = 1, inplace = True)\n",
        "df.drop(['HalfTR'], axis = 1, inplace = True)"
      ],
      "execution_count": 0,
      "outputs": []
    },
    {
      "metadata": {
        "id": "ujsTDdHB9LOh",
        "colab_type": "code",
        "outputId": "90113ec2-781f-42aa-bc74-cafb05d0ae60",
        "colab": {
          "base_uri": "https://localhost:8080/",
          "height": 200
        }
      },
      "cell_type": "code",
      "source": [
        "df.head()"
      ],
      "execution_count": 8,
      "outputs": [
        {
          "output_type": "execute_result",
          "data": {
            "text/html": [
              "<div>\n",
              "<style scoped>\n",
              "    .dataframe tbody tr th:only-of-type {\n",
              "        vertical-align: middle;\n",
              "    }\n",
              "\n",
              "    .dataframe tbody tr th {\n",
              "        vertical-align: top;\n",
              "    }\n",
              "\n",
              "    .dataframe thead th {\n",
              "        text-align: right;\n",
              "    }\n",
              "</style>\n",
              "<table border=\"1\" class=\"dataframe\">\n",
              "  <thead>\n",
              "    <tr style=\"text-align: right;\">\n",
              "      <th></th>\n",
              "      <th>Date</th>\n",
              "      <th>HomeTeam</th>\n",
              "      <th>AwayTeam</th>\n",
              "      <th>FTHomeGoal</th>\n",
              "      <th>FTAwayGoal</th>\n",
              "      <th>HalfTHG</th>\n",
              "      <th>HalfTAG</th>\n",
              "      <th>Trans_HalfTR</th>\n",
              "      <th>Trans_FTResult</th>\n",
              "    </tr>\n",
              "  </thead>\n",
              "  <tbody>\n",
              "    <tr>\n",
              "      <th>0</th>\n",
              "      <td>10/8/2018</td>\n",
              "      <td>Man United</td>\n",
              "      <td>Leicester</td>\n",
              "      <td>2</td>\n",
              "      <td>1</td>\n",
              "      <td>1</td>\n",
              "      <td>0</td>\n",
              "      <td>1</td>\n",
              "      <td>1</td>\n",
              "    </tr>\n",
              "    <tr>\n",
              "      <th>1</th>\n",
              "      <td>11/8/2018</td>\n",
              "      <td>Bournemouth</td>\n",
              "      <td>Cardiff</td>\n",
              "      <td>2</td>\n",
              "      <td>0</td>\n",
              "      <td>1</td>\n",
              "      <td>0</td>\n",
              "      <td>1</td>\n",
              "      <td>1</td>\n",
              "    </tr>\n",
              "    <tr>\n",
              "      <th>2</th>\n",
              "      <td>11/8/2018</td>\n",
              "      <td>Fulham</td>\n",
              "      <td>Crystal Palace</td>\n",
              "      <td>0</td>\n",
              "      <td>2</td>\n",
              "      <td>0</td>\n",
              "      <td>1</td>\n",
              "      <td>-1</td>\n",
              "      <td>-1</td>\n",
              "    </tr>\n",
              "    <tr>\n",
              "      <th>3</th>\n",
              "      <td>11/8/2018</td>\n",
              "      <td>Huddersfield</td>\n",
              "      <td>Chelsea</td>\n",
              "      <td>0</td>\n",
              "      <td>3</td>\n",
              "      <td>0</td>\n",
              "      <td>2</td>\n",
              "      <td>-1</td>\n",
              "      <td>-1</td>\n",
              "    </tr>\n",
              "    <tr>\n",
              "      <th>4</th>\n",
              "      <td>11/8/2018</td>\n",
              "      <td>Newcastle</td>\n",
              "      <td>Tottenham</td>\n",
              "      <td>1</td>\n",
              "      <td>2</td>\n",
              "      <td>1</td>\n",
              "      <td>2</td>\n",
              "      <td>-1</td>\n",
              "      <td>-1</td>\n",
              "    </tr>\n",
              "  </tbody>\n",
              "</table>\n",
              "</div>"
            ],
            "text/plain": [
              "        Date      HomeTeam        AwayTeam  FTHomeGoal  FTAwayGoal  HalfTHG  \\\n",
              "0  10/8/2018    Man United       Leicester           2           1        1   \n",
              "1  11/8/2018   Bournemouth         Cardiff           2           0        1   \n",
              "2  11/8/2018        Fulham  Crystal Palace           0           2        0   \n",
              "3  11/8/2018  Huddersfield         Chelsea           0           3        0   \n",
              "4  11/8/2018     Newcastle       Tottenham           1           2        1   \n",
              "\n",
              "   HalfTAG  Trans_HalfTR  Trans_FTResult  \n",
              "0        0             1               1  \n",
              "1        0             1               1  \n",
              "2        1            -1              -1  \n",
              "3        2            -1              -1  \n",
              "4        2            -1              -1  "
            ]
          },
          "metadata": {
            "tags": []
          },
          "execution_count": 8
        }
      ]
    },
    {
      "metadata": {
        "id": "upah9St-ISPA",
        "colab_type": "text"
      },
      "cell_type": "markdown",
      "source": [
        "###Create NewTable with columns: Team, Home Goals Score(HGS), Away Goals Score(AGS), Home Attack Strength(HAS),  Home Attack Strength(AAS), Home Goals Conceded(HGC), Away Goals Conceded(AGC), Away Defensive Strength(ADS), Home Defensive Strength(HDS)"
      ]
    },
    {
      "metadata": {
        "id": "zR7InVT-9ZxN",
        "colab_type": "code",
        "colab": {}
      },
      "cell_type": "code",
      "source": [
        "NewTable = pd.DataFrame(columns=('Team','HGS','AGS','HAS','AAS','HGC','AGC','HDS','ADS','N_FTResult', 'N_HTResult' ))\n",
        "NewTable = NewTable"
      ],
      "execution_count": 0,
      "outputs": []
    },
    {
      "metadata": {
        "id": "if_jdE9SOcyd",
        "colab_type": "code",
        "outputId": "8b6b0c14-fea8-402b-e1b5-544be96fb111",
        "colab": {
          "base_uri": "https://localhost:8080/",
          "height": 237
        }
      },
      "cell_type": "code",
      "source": [
        "res = df\n",
        "res.head()"
      ],
      "execution_count": 10,
      "outputs": [
        {
          "output_type": "execute_result",
          "data": {
            "text/html": [
              "<div>\n",
              "<style scoped>\n",
              "    .dataframe tbody tr th:only-of-type {\n",
              "        vertical-align: middle;\n",
              "    }\n",
              "\n",
              "    .dataframe tbody tr th {\n",
              "        vertical-align: top;\n",
              "    }\n",
              "\n",
              "    .dataframe thead th {\n",
              "        text-align: right;\n",
              "    }\n",
              "</style>\n",
              "<table border=\"1\" class=\"dataframe\">\n",
              "  <thead>\n",
              "    <tr style=\"text-align: right;\">\n",
              "      <th></th>\n",
              "      <th>Date</th>\n",
              "      <th>HomeTeam</th>\n",
              "      <th>AwayTeam</th>\n",
              "      <th>FTHomeGoal</th>\n",
              "      <th>FTAwayGoal</th>\n",
              "      <th>HalfTHG</th>\n",
              "      <th>HalfTAG</th>\n",
              "      <th>Trans_HalfTR</th>\n",
              "      <th>Trans_FTResult</th>\n",
              "    </tr>\n",
              "  </thead>\n",
              "  <tbody>\n",
              "    <tr>\n",
              "      <th>0</th>\n",
              "      <td>10/8/2018</td>\n",
              "      <td>Man United</td>\n",
              "      <td>Leicester</td>\n",
              "      <td>2</td>\n",
              "      <td>1</td>\n",
              "      <td>1</td>\n",
              "      <td>0</td>\n",
              "      <td>1</td>\n",
              "      <td>1</td>\n",
              "    </tr>\n",
              "    <tr>\n",
              "      <th>1</th>\n",
              "      <td>11/8/2018</td>\n",
              "      <td>Bournemouth</td>\n",
              "      <td>Cardiff</td>\n",
              "      <td>2</td>\n",
              "      <td>0</td>\n",
              "      <td>1</td>\n",
              "      <td>0</td>\n",
              "      <td>1</td>\n",
              "      <td>1</td>\n",
              "    </tr>\n",
              "    <tr>\n",
              "      <th>2</th>\n",
              "      <td>11/8/2018</td>\n",
              "      <td>Fulham</td>\n",
              "      <td>Crystal Palace</td>\n",
              "      <td>0</td>\n",
              "      <td>2</td>\n",
              "      <td>0</td>\n",
              "      <td>1</td>\n",
              "      <td>-1</td>\n",
              "      <td>-1</td>\n",
              "    </tr>\n",
              "    <tr>\n",
              "      <th>3</th>\n",
              "      <td>11/8/2018</td>\n",
              "      <td>Huddersfield</td>\n",
              "      <td>Chelsea</td>\n",
              "      <td>0</td>\n",
              "      <td>3</td>\n",
              "      <td>0</td>\n",
              "      <td>2</td>\n",
              "      <td>-1</td>\n",
              "      <td>-1</td>\n",
              "    </tr>\n",
              "    <tr>\n",
              "      <th>4</th>\n",
              "      <td>11/8/2018</td>\n",
              "      <td>Newcastle</td>\n",
              "      <td>Tottenham</td>\n",
              "      <td>1</td>\n",
              "      <td>2</td>\n",
              "      <td>1</td>\n",
              "      <td>2</td>\n",
              "      <td>-1</td>\n",
              "      <td>-1</td>\n",
              "    </tr>\n",
              "  </tbody>\n",
              "</table>\n",
              "</div>"
            ],
            "text/plain": [
              "        Date      HomeTeam        AwayTeam  FTHomeGoal  FTAwayGoal  HalfTHG  \\\n",
              "0  10/8/2018    Man United       Leicester           2           1        1   \n",
              "1  11/8/2018   Bournemouth         Cardiff           2           0        1   \n",
              "2  11/8/2018        Fulham  Crystal Palace           0           2        0   \n",
              "3  11/8/2018  Huddersfield         Chelsea           0           3        0   \n",
              "4  11/8/2018     Newcastle       Tottenham           1           2        1   \n",
              "\n",
              "   HalfTAG  Trans_HalfTR  Trans_FTResult  \n",
              "0        0             1               1  \n",
              "1        0             1               1  \n",
              "2        1            -1              -1  \n",
              "3        2            -1              -1  \n",
              "4        2            -1              -1  "
            ]
          },
          "metadata": {
            "tags": []
          },
          "execution_count": 10
        }
      ]
    },
    {
      "metadata": {
        "id": "HBz0Vg27KAkC",
        "colab_type": "text"
      },
      "cell_type": "markdown",
      "source": [
        "###Finding total average of home goal scored and conceded by Home and Away Team "
      ]
    },
    {
      "metadata": {
        "id": "L9LKZyyMJKiI",
        "colab_type": "code",
        "outputId": "e593384f-7e0b-46ce-dd49-62fc1f3a0cdd",
        "colab": {
          "base_uri": "https://localhost:8080/",
          "height": 88
        }
      },
      "cell_type": "code",
      "source": [
        "avg_home_scored = res.FTHomeGoal.sum()*1.0 / res.shape[0]\n",
        "avg_away_scored = res.FTAwayGoal.sum()*1.0 / res.shape[0]\n",
        "avg_home_conceded = avg_away_scored\n",
        "avg_away_conceded = avg_home_scored\n",
        "print(\"Average number of goals at home\",avg_home_scored)\n",
        "print(\"Average number of goals away\", avg_away_scored)\n",
        "print(\"Average number of goals conceded at home\",avg_home_conceded)\n",
        "print(\"Average number of goals conceded away\",avg_away_conceded)"
      ],
      "execution_count": 11,
      "outputs": [
        {
          "output_type": "stream",
          "text": [
            "Average number of goals at home 1.5591397849462365\n",
            "Average number of goals away 1.1913978494623656\n",
            "Average number of goals conceded at home 1.1913978494623656\n",
            "Average number of goals conceded away 1.5591397849462365\n"
          ],
          "name": "stdout"
        }
      ]
    },
    {
      "metadata": {
        "id": "Y6XOc08M1Xtu",
        "colab_type": "text"
      },
      "cell_type": "markdown",
      "source": [
        "###Calculating the team's -  Home Attacking Strength(HAS), Home Defensive Strength(HDS), Away Attacking Strength(AAS), and Away Defensive Strength(ADS)"
      ]
    },
    {
      "metadata": {
        "id": "su3YW1bvKsWi",
        "colab_type": "code",
        "outputId": "a886f9ee-9d17-4cd1-f3af-0f349681b88d",
        "colab": {
          "base_uri": "https://localhost:8080/",
          "height": 35
        }
      },
      "cell_type": "code",
      "source": [
        "\n",
        "NewHome = res.groupby('HomeTeam')\n",
        "NewAway = res.groupby('AwayTeam')\n",
        "NewHome\n",
        "NewAway"
      ],
      "execution_count": 12,
      "outputs": [
        {
          "output_type": "execute_result",
          "data": {
            "text/plain": [
              "<pandas.core.groupby.DataFrameGroupBy object at 0x7feef180ab70>"
            ]
          },
          "metadata": {
            "tags": []
          },
          "execution_count": 12
        }
      ]
    },
    {
      "metadata": {
        "id": "qWRWAHBVNc6p",
        "colab_type": "code",
        "outputId": "7434492c-bc5f-452a-9ddd-903fadb64064",
        "colab": {
          "base_uri": "https://localhost:8080/",
          "height": 200
        }
      },
      "cell_type": "code",
      "source": [
        "Num_game = df.shape[0]/20\n",
        "NewTable.Team = NewHome.HomeTeam.all().values\n",
        "NewTable.HGS = NewHome.FTHomeGoal.sum().values\n",
        "NewTable.AGS = NewAway.FTAwayGoal.sum().values\n",
        "NewTable.HGC = NewHome.FTAwayGoal.sum().values\n",
        "NewTable.AGC = NewAway.FTHomeGoal.sum().values\n",
        "NewTable.HAS = (NewTable.HGS / Num_game) / avg_home_scored\n",
        "NewTable.AAS = (NewTable.AGS / Num_game) / avg_home_scored\n",
        "NewTable.HDS = (NewTable.HGC / Num_game) / avg_home_scored\n",
        "NewTable.ADS = (NewTable.AGC / Num_game) / avg_home_scored\n",
        "NewTable.N_FTResult = df['Trans_FTResult']\n",
        "NewTable.N_HTResult = df['Trans_HalfTR']\n",
        "\n",
        "NewTable.head()\n",
        "\n"
      ],
      "execution_count": 13,
      "outputs": [
        {
          "output_type": "execute_result",
          "data": {
            "text/html": [
              "<div>\n",
              "<style scoped>\n",
              "    .dataframe tbody tr th:only-of-type {\n",
              "        vertical-align: middle;\n",
              "    }\n",
              "\n",
              "    .dataframe tbody tr th {\n",
              "        vertical-align: top;\n",
              "    }\n",
              "\n",
              "    .dataframe thead th {\n",
              "        text-align: right;\n",
              "    }\n",
              "</style>\n",
              "<table border=\"1\" class=\"dataframe\">\n",
              "  <thead>\n",
              "    <tr style=\"text-align: right;\">\n",
              "      <th></th>\n",
              "      <th>Team</th>\n",
              "      <th>HGS</th>\n",
              "      <th>AGS</th>\n",
              "      <th>HAS</th>\n",
              "      <th>AAS</th>\n",
              "      <th>HGC</th>\n",
              "      <th>AGC</th>\n",
              "      <th>HDS</th>\n",
              "      <th>ADS</th>\n",
              "      <th>N_FTResult</th>\n",
              "      <th>N_HTResult</th>\n",
              "    </tr>\n",
              "  </thead>\n",
              "  <tbody>\n",
              "    <tr>\n",
              "      <th>0</th>\n",
              "      <td>Arsenal</td>\n",
              "      <td>110</td>\n",
              "      <td>78</td>\n",
              "      <td>1.517241</td>\n",
              "      <td>1.075862</td>\n",
              "      <td>44</td>\n",
              "      <td>74</td>\n",
              "      <td>0.606897</td>\n",
              "      <td>1.020690</td>\n",
              "      <td>1</td>\n",
              "      <td>1</td>\n",
              "    </tr>\n",
              "    <tr>\n",
              "      <th>1</th>\n",
              "      <td>Bournemouth</td>\n",
              "      <td>75</td>\n",
              "      <td>50</td>\n",
              "      <td>1.034483</td>\n",
              "      <td>0.689655</td>\n",
              "      <td>73</td>\n",
              "      <td>83</td>\n",
              "      <td>1.006897</td>\n",
              "      <td>1.144828</td>\n",
              "      <td>1</td>\n",
              "      <td>1</td>\n",
              "    </tr>\n",
              "    <tr>\n",
              "      <th>2</th>\n",
              "      <td>Brighton</td>\n",
              "      <td>37</td>\n",
              "      <td>17</td>\n",
              "      <td>0.510345</td>\n",
              "      <td>0.234483</td>\n",
              "      <td>35</td>\n",
              "      <td>43</td>\n",
              "      <td>0.482759</td>\n",
              "      <td>0.593103</td>\n",
              "      <td>-1</td>\n",
              "      <td>-1</td>\n",
              "    </tr>\n",
              "    <tr>\n",
              "      <th>3</th>\n",
              "      <td>Burnley</td>\n",
              "      <td>51</td>\n",
              "      <td>39</td>\n",
              "      <td>0.703448</td>\n",
              "      <td>0.537931</td>\n",
              "      <td>52</td>\n",
              "      <td>75</td>\n",
              "      <td>0.717241</td>\n",
              "      <td>1.034483</td>\n",
              "      <td>-1</td>\n",
              "      <td>-1</td>\n",
              "    </tr>\n",
              "    <tr>\n",
              "      <th>4</th>\n",
              "      <td>Cardiff</td>\n",
              "      <td>12</td>\n",
              "      <td>5</td>\n",
              "      <td>0.165517</td>\n",
              "      <td>0.068966</td>\n",
              "      <td>15</td>\n",
              "      <td>18</td>\n",
              "      <td>0.206897</td>\n",
              "      <td>0.248276</td>\n",
              "      <td>-1</td>\n",
              "      <td>-1</td>\n",
              "    </tr>\n",
              "  </tbody>\n",
              "</table>\n",
              "</div>"
            ],
            "text/plain": [
              "          Team  HGS  AGS       HAS       AAS  HGC  AGC       HDS       ADS  \\\n",
              "0      Arsenal  110   78  1.517241  1.075862   44   74  0.606897  1.020690   \n",
              "1  Bournemouth   75   50  1.034483  0.689655   73   83  1.006897  1.144828   \n",
              "2     Brighton   37   17  0.510345  0.234483   35   43  0.482759  0.593103   \n",
              "3      Burnley   51   39  0.703448  0.537931   52   75  0.717241  1.034483   \n",
              "4      Cardiff   12    5  0.165517  0.068966   15   18  0.206897  0.248276   \n",
              "\n",
              "   N_FTResult  N_HTResult  \n",
              "0           1           1  \n",
              "1           1           1  \n",
              "2          -1          -1  \n",
              "3          -1          -1  \n",
              "4          -1          -1  "
            ]
          },
          "metadata": {
            "tags": []
          },
          "execution_count": 13
        }
      ]
    },
    {
      "metadata": {
        "id": "yjmqgBVZDhXx",
        "colab_type": "text"
      },
      "cell_type": "markdown",
      "source": [
        ""
      ]
    },
    {
      "metadata": {
        "id": "-2vLYPvr2ApH",
        "colab_type": "text"
      },
      "cell_type": "markdown",
      "source": [
        "###Plot chart of HAS against the teams"
      ]
    },
    {
      "metadata": {
        "id": "Binn36hKRQiK",
        "colab_type": "code",
        "outputId": "ec30ef89-3dae-4d0d-ddee-996e93ab92f4",
        "colab": {
          "base_uri": "https://localhost:8080/",
          "height": 452
        }
      },
      "cell_type": "code",
      "source": [
        "import matplotlib.pyplot as plt\n",
        "import seaborn as sns\n",
        "has_plot = sns.barplot(NewTable.Team,NewTable.HAS)\n",
        "for item in has_plot.get_xticklabels():\n",
        "    item.set_rotation(90)"
      ],
      "execution_count": 14,
      "outputs": [
        {
          "output_type": "stream",
          "text": [
            "/usr/local/lib/python3.6/dist-packages/seaborn/categorical.py:1428: FutureWarning: remove_na is deprecated and is a private function. Do not use.\n",
            "  stat_data = remove_na(group_data)\n"
          ],
          "name": "stderr"
        },
        {
          "output_type": "display_data",
          "data": {
            "image/png": "[encoded data removed]",
            "text/plain": [
              "<matplotlib.figure.Figure at 0x7feef17bb5c0>"
            ]
          },
          "metadata": {
            "tags": []
          }
        }
      ]
    },
    {
      "metadata": {
        "id": "DtR2_jNN2Ki6",
        "colab_type": "text"
      },
      "cell_type": "markdown",
      "source": [
        "###Setting the x_train and y_train to get the prediction model."
      ]
    },
    {
      "metadata": {
        "id": "c_PZC2DBaX3P",
        "colab_type": "code",
        "colab": {}
      },
      "cell_type": "code",
      "source": [
        "\n",
        "X_train = NewTable[['HAS','HDS','AAS','ADS',]]\n",
        "y_train = NewTable['N_FTResult']\n"
      ],
      "execution_count": 0,
      "outputs": []
    },
    {
      "metadata": {
        "id": "UgBVEKQ_lrfC",
        "colab_type": "code",
        "colab": {}
      },
      "cell_type": "code",
      "source": [
        "from sklearn.tree import DecisionTreeClassifier\n",
        "from sklearn.naive_bayes import MultinomialNB\n",
        "from xgboost import XGBClassifier\n",
        "from sklearn.metrics import accuracy_score\n",
        "from sklearn.model_selection import cross_val_score\n",
        "from sklearn.linear_model import LogisticRegression\n",
        "from sklearn.ensemble import RandomForestClassifier\n",
        "from sklearn.neighbors import KNeighborsClassifier\n",
        "from sklearn.ensemble import voting_classifier\n",
        "from sklearn.svm import LinearSVC\n",
        "import tensorflow as tf\n",
        "from tensorflow import keras\n",
        "from tensorflow.keras import layers\n",
        "\n",
        "\n",
        "clf1 = RandomForestClassifier()\n",
        "clf2 = MultinomialNB()\n",
        "clf3 = XGBClassifier()\n",
        "clf4 = LinearSVC()\n",
        "\n"
      ],
      "execution_count": 0,
      "outputs": []
    },
    {
      "metadata": {
        "id": "4h8IRPIkmJh4",
        "colab_type": "code",
        "colab": {}
      },
      "cell_type": "code",
      "source": [
        "y_pred = clf4.fit(X_train,y_train).predict(X_train)\n",
        "accuracy_score(y_pred,y_train)\n",
        "scores = cross_val_score(clf1, X_train, y_train, cv=7)\n",
        "print(scores)\n",
        "print(scores.mean())"
      ],
      "execution_count": 0,
      "outputs": []
    },
    {
      "metadata": {
        "id": "XFU0ixO9mWZS",
        "colab_type": "code",
        "colab": {}
      },
      "cell_type": "code",
      "source": [
        "y_pred = clf2.fit(X_train,y_train).predict(X_train)\n",
        "accuracy_score(y_pred,y_train)\n",
        "scores = cross_val_score(clf2, X_train, y_train, cv=10)\n",
        "print(scores)\n",
        "print(scores.mean())"
      ],
      "execution_count": 0,
      "outputs": []
    },
    {
      "metadata": {
        "id": "5wn9B1wol-8n",
        "colab_type": "code",
        "colab": {}
      },
      "cell_type": "code",
      "source": [
        "y_pred = clf1.fit(X_train,y_train).predict(X_train)\n",
        "accuracy_score(y_pred,y_train)\n",
        "scores = cross_val_score(clf1, X_train, y_train, cv=10)\n",
        "print(scores)\n",
        "print(scores.mean())"
      ],
      "execution_count": 0,
      "outputs": []
    },
    {
      "metadata": {
        "id": "CwPBcYQcmdNC",
        "colab_type": "code",
        "colab": {
          "base_uri": "https://localhost:8080/",
          "height": 126
        },
        "outputId": "916325b3-eb07-477a-da0b-83fc8e7bf6b3"
      },
      "cell_type": "code",
      "source": [
        "y_pred = clf3.fit(X_train, y_train).predict(X_train)\n",
        "accuracy_score(y_pred,y_train)\n",
        "scores = cross_val_score(clf3, X_train, y_train, cv=10)\n",
        "print(scores)\n",
        "print(scores.mean())"
      ],
      "execution_count": 20,
      "outputs": [
        {
          "output_type": "stream",
          "text": [
            "[0.25       0.25       0.33333333 0.33333333 0.66666667 0.66666667\n",
            " 0.5        0.5        1.         1.        ]\n",
            "0.55\n"
          ],
          "name": "stdout"
        },
        {
          "output_type": "stream",
          "text": [
            "/usr/local/lib/python3.6/dist-packages/sklearn/model_selection/_split.py:652: Warning: The least populated class in y has only 6 members, which is too few. The minimum number of members in any class cannot be less than n_splits=10.\n",
            "  % (min_groups, self.n_splits)), Warning)\n"
          ],
          "name": "stderr"
        }
      ]
    },
    {
      "metadata": {
        "id": "PbLt-AswwWW_",
        "colab_type": "text"
      },
      "cell_type": "markdown",
      "source": [
        "###Create \"UpdatedTable\" to include the upcoming fixtures"
      ]
    },
    {
      "metadata": {
        "id": "OCmLzbtkGqFm",
        "colab_type": "code",
        "colab": {}
      },
      "cell_type": "code",
      "source": [
        "UpdatedTable = df[['HomeTeam','AwayTeam']]\n",
        "f_HAS = []\n",
        "f_HDS = []\n",
        "f_AAS = []\n",
        "f_ADS = []\n",
        "for index,row in UpdatedTable.iterrows():\n",
        "    f_HAS.append(NewTable[NewTable['Team'] == row['HomeTeam']]['HAS'].values[0])\n",
        "    f_HDS.append(NewTable[NewTable['Team'] == row['HomeTeam']]['HDS'].values[0])\n",
        "    f_AAS.append(NewTable[NewTable['Team'] == row['AwayTeam']]['AAS'].values[0])\n",
        "    f_ADS.append(NewTable[NewTable['Team'] == row['AwayTeam']]['ADS'].values[0])\n",
        "    \n",
        "UpdatedTable['HAS'] = f_HAS\n",
        "UpdatedTable['HDS'] = f_HDS\n",
        "UpdatedTable['AAS'] = f_AAS\n",
        "UpdatedTable['ADS'] = f_ADS\n",
        "UpdatedTable['Result'] = df['Trans_FTResult']"
      ],
      "execution_count": 0,
      "outputs": []
    },
    {
      "metadata": {
        "id": "i62q0IlwLzEn",
        "colab_type": "code",
        "outputId": "7b77c456-e8d5-49be-e4b1-b013510e174a",
        "colab": {
          "base_uri": "https://localhost:8080/",
          "height": 1930
        }
      },
      "cell_type": "code",
      "source": [
        "UpdatedTable"
      ],
      "execution_count": 102,
      "outputs": [
        {
          "output_type": "execute_result",
          "data": {
            "text/html": [
              "<div>\n",
              "<style scoped>\n",
              "    .dataframe tbody tr th:only-of-type {\n",
              "        vertical-align: middle;\n",
              "    }\n",
              "\n",
              "    .dataframe tbody tr th {\n",
              "        vertical-align: top;\n",
              "    }\n",
              "\n",
              "    .dataframe thead th {\n",
              "        text-align: right;\n",
              "    }\n",
              "</style>\n",
              "<table border=\"1\" class=\"dataframe\">\n",
              "  <thead>\n",
              "    <tr style=\"text-align: right;\">\n",
              "      <th></th>\n",
              "      <th>HomeTeam</th>\n",
              "      <th>AwayTeam</th>\n",
              "      <th>HAS</th>\n",
              "      <th>HDS</th>\n",
              "      <th>AAS</th>\n",
              "      <th>ADS</th>\n",
              "      <th>Result</th>\n",
              "    </tr>\n",
              "  </thead>\n",
              "  <tbody>\n",
              "    <tr>\n",
              "      <th>0</th>\n",
              "      <td>Man United</td>\n",
              "      <td>Leicester</td>\n",
              "      <td>1.075862</td>\n",
              "      <td>0.441379</td>\n",
              "      <td>0.813793</td>\n",
              "      <td>1.227586</td>\n",
              "      <td>1</td>\n",
              "    </tr>\n",
              "    <tr>\n",
              "      <th>1</th>\n",
              "      <td>Bournemouth</td>\n",
              "      <td>Cardiff</td>\n",
              "      <td>1.034483</td>\n",
              "      <td>1.006897</td>\n",
              "      <td>0.068966</td>\n",
              "      <td>0.248276</td>\n",
              "      <td>1</td>\n",
              "    </tr>\n",
              "    <tr>\n",
              "      <th>2</th>\n",
              "      <td>Fulham</td>\n",
              "      <td>Crystal Palace</td>\n",
              "      <td>0.137931</td>\n",
              "      <td>0.248276</td>\n",
              "      <td>0.703448</td>\n",
              "      <td>1.117241</td>\n",
              "      <td>-1</td>\n",
              "    </tr>\n",
              "    <tr>\n",
              "      <th>3</th>\n",
              "      <td>Huddersfield</td>\n",
              "      <td>Chelsea</td>\n",
              "      <td>0.262069</td>\n",
              "      <td>0.496552</td>\n",
              "      <td>1.075862</td>\n",
              "      <td>0.620690</td>\n",
              "      <td>-1</td>\n",
              "    </tr>\n",
              "    <tr>\n",
              "      <th>4</th>\n",
              "      <td>Newcastle</td>\n",
              "      <td>Tottenham</td>\n",
              "      <td>0.386207</td>\n",
              "      <td>0.441379</td>\n",
              "      <td>1.268966</td>\n",
              "      <td>0.648276</td>\n",
              "      <td>-1</td>\n",
              "    </tr>\n",
              "    <tr>\n",
              "      <th>5</th>\n",
              "      <td>Watford</td>\n",
              "      <td>Brighton</td>\n",
              "      <td>0.910345</td>\n",
              "      <td>1.034483</td>\n",
              "      <td>0.234483</td>\n",
              "      <td>0.593103</td>\n",
              "      <td>1</td>\n",
              "    </tr>\n",
              "    <tr>\n",
              "      <th>6</th>\n",
              "      <td>Wolves</td>\n",
              "      <td>Everton</td>\n",
              "      <td>0.165517</td>\n",
              "      <td>0.151724</td>\n",
              "      <td>0.606897</td>\n",
              "      <td>1.062069</td>\n",
              "      <td>0</td>\n",
              "    </tr>\n",
              "    <tr>\n",
              "      <th>7</th>\n",
              "      <td>Arsenal</td>\n",
              "      <td>Man City</td>\n",
              "      <td>1.517241</td>\n",
              "      <td>0.606897</td>\n",
              "      <td>1.420690</td>\n",
              "      <td>0.537931</td>\n",
              "      <td>-1</td>\n",
              "    </tr>\n",
              "    <tr>\n",
              "      <th>8</th>\n",
              "      <td>Liverpool</td>\n",
              "      <td>West Ham</td>\n",
              "      <td>1.489655</td>\n",
              "      <td>0.413793</td>\n",
              "      <td>0.868966</td>\n",
              "      <td>1.186207</td>\n",
              "      <td>1</td>\n",
              "    </tr>\n",
              "    <tr>\n",
              "      <th>9</th>\n",
              "      <td>Southampton</td>\n",
              "      <td>Burnley</td>\n",
              "      <td>0.634483</td>\n",
              "      <td>0.813793</td>\n",
              "      <td>0.537931</td>\n",
              "      <td>1.034483</td>\n",
              "      <td>0</td>\n",
              "    </tr>\n",
              "    <tr>\n",
              "      <th>10</th>\n",
              "      <td>Cardiff</td>\n",
              "      <td>Newcastle</td>\n",
              "      <td>0.165517</td>\n",
              "      <td>0.206897</td>\n",
              "      <td>0.344828</td>\n",
              "      <td>0.510345</td>\n",
              "      <td>0</td>\n",
              "    </tr>\n",
              "    <tr>\n",
              "      <th>11</th>\n",
              "      <td>Chelsea</td>\n",
              "      <td>Arsenal</td>\n",
              "      <td>1.434483</td>\n",
              "      <td>0.551724</td>\n",
              "      <td>1.075862</td>\n",
              "      <td>1.020690</td>\n",
              "      <td>1</td>\n",
              "    </tr>\n",
              "    <tr>\n",
              "      <th>12</th>\n",
              "      <td>Everton</td>\n",
              "      <td>Southampton</td>\n",
              "      <td>1.186207</td>\n",
              "      <td>0.648276</td>\n",
              "      <td>0.662069</td>\n",
              "      <td>1.062069</td>\n",
              "      <td>1</td>\n",
              "    </tr>\n",
              "    <tr>\n",
              "      <th>13</th>\n",
              "      <td>Leicester</td>\n",
              "      <td>Wolves</td>\n",
              "      <td>0.910345</td>\n",
              "      <td>0.758621</td>\n",
              "      <td>0.096552</td>\n",
              "      <td>0.110345</td>\n",
              "      <td>1</td>\n",
              "    </tr>\n",
              "    <tr>\n",
              "      <th>14</th>\n",
              "      <td>Tottenham</td>\n",
              "      <td>Fulham</td>\n",
              "      <td>1.365517</td>\n",
              "      <td>0.427586</td>\n",
              "      <td>0.082759</td>\n",
              "      <td>0.331034</td>\n",
              "      <td>1</td>\n",
              "    </tr>\n",
              "    <tr>\n",
              "      <th>15</th>\n",
              "      <td>West Ham</td>\n",
              "      <td>Bournemouth</td>\n",
              "      <td>0.786207</td>\n",
              "      <td>0.979310</td>\n",
              "      <td>0.689655</td>\n",
              "      <td>1.144828</td>\n",
              "      <td>-1</td>\n",
              "    </tr>\n",
              "    <tr>\n",
              "      <th>16</th>\n",
              "      <td>Brighton</td>\n",
              "      <td>Man United</td>\n",
              "      <td>0.510345</td>\n",
              "      <td>0.482759</td>\n",
              "      <td>1.006897</td>\n",
              "      <td>0.744828</td>\n",
              "      <td>1</td>\n",
              "    </tr>\n",
              "    <tr>\n",
              "      <th>17</th>\n",
              "      <td>Burnley</td>\n",
              "      <td>Watford</td>\n",
              "      <td>0.703448</td>\n",
              "      <td>0.717241</td>\n",
              "      <td>0.565517</td>\n",
              "      <td>1.131034</td>\n",
              "      <td>-1</td>\n",
              "    </tr>\n",
              "    <tr>\n",
              "      <th>18</th>\n",
              "      <td>Man City</td>\n",
              "      <td>Huddersfield</td>\n",
              "      <td>1.806897</td>\n",
              "      <td>0.510345</td>\n",
              "      <td>0.262069</td>\n",
              "      <td>0.689655</td>\n",
              "      <td>1</td>\n",
              "    </tr>\n",
              "    <tr>\n",
              "      <th>19</th>\n",
              "      <td>Crystal Palace</td>\n",
              "      <td>Liverpool</td>\n",
              "      <td>0.800000</td>\n",
              "      <td>0.827586</td>\n",
              "      <td>1.255172</td>\n",
              "      <td>0.786207</td>\n",
              "      <td>-1</td>\n",
              "    </tr>\n",
              "    <tr>\n",
              "      <th>20</th>\n",
              "      <td>Arsenal</td>\n",
              "      <td>West Ham</td>\n",
              "      <td>1.517241</td>\n",
              "      <td>0.606897</td>\n",
              "      <td>0.868966</td>\n",
              "      <td>1.186207</td>\n",
              "      <td>1</td>\n",
              "    </tr>\n",
              "    <tr>\n",
              "      <th>21</th>\n",
              "      <td>Bournemouth</td>\n",
              "      <td>Everton</td>\n",
              "      <td>1.034483</td>\n",
              "      <td>1.006897</td>\n",
              "      <td>0.606897</td>\n",
              "      <td>1.062069</td>\n",
              "      <td>0</td>\n",
              "    </tr>\n",
              "    <tr>\n",
              "      <th>22</th>\n",
              "      <td>Huddersfield</td>\n",
              "      <td>Cardiff</td>\n",
              "      <td>0.262069</td>\n",
              "      <td>0.496552</td>\n",
              "      <td>0.068966</td>\n",
              "      <td>0.248276</td>\n",
              "      <td>0</td>\n",
              "    </tr>\n",
              "    <tr>\n",
              "      <th>23</th>\n",
              "      <td>Liverpool</td>\n",
              "      <td>Brighton</td>\n",
              "      <td>1.489655</td>\n",
              "      <td>0.413793</td>\n",
              "      <td>0.234483</td>\n",
              "      <td>0.593103</td>\n",
              "      <td>1</td>\n",
              "    </tr>\n",
              "    <tr>\n",
              "      <th>24</th>\n",
              "      <td>Southampton</td>\n",
              "      <td>Leicester</td>\n",
              "      <td>0.634483</td>\n",
              "      <td>0.813793</td>\n",
              "      <td>0.813793</td>\n",
              "      <td>1.227586</td>\n",
              "      <td>-1</td>\n",
              "    </tr>\n",
              "    <tr>\n",
              "      <th>25</th>\n",
              "      <td>Wolves</td>\n",
              "      <td>Man City</td>\n",
              "      <td>0.165517</td>\n",
              "      <td>0.151724</td>\n",
              "      <td>1.420690</td>\n",
              "      <td>0.537931</td>\n",
              "      <td>0</td>\n",
              "    </tr>\n",
              "    <tr>\n",
              "      <th>26</th>\n",
              "      <td>Fulham</td>\n",
              "      <td>Burnley</td>\n",
              "      <td>0.137931</td>\n",
              "      <td>0.248276</td>\n",
              "      <td>0.537931</td>\n",
              "      <td>1.034483</td>\n",
              "      <td>1</td>\n",
              "    </tr>\n",
              "    <tr>\n",
              "      <th>27</th>\n",
              "      <td>Newcastle</td>\n",
              "      <td>Chelsea</td>\n",
              "      <td>0.386207</td>\n",
              "      <td>0.441379</td>\n",
              "      <td>1.075862</td>\n",
              "      <td>0.620690</td>\n",
              "      <td>-1</td>\n",
              "    </tr>\n",
              "    <tr>\n",
              "      <th>28</th>\n",
              "      <td>Watford</td>\n",
              "      <td>Crystal Palace</td>\n",
              "      <td>0.910345</td>\n",
              "      <td>1.034483</td>\n",
              "      <td>0.703448</td>\n",
              "      <td>1.117241</td>\n",
              "      <td>1</td>\n",
              "    </tr>\n",
              "    <tr>\n",
              "      <th>29</th>\n",
              "      <td>Man United</td>\n",
              "      <td>Tottenham</td>\n",
              "      <td>1.075862</td>\n",
              "      <td>0.441379</td>\n",
              "      <td>1.268966</td>\n",
              "      <td>0.648276</td>\n",
              "      <td>-1</td>\n",
              "    </tr>\n",
              "    <tr>\n",
              "      <th>...</th>\n",
              "      <td>...</td>\n",
              "      <td>...</td>\n",
              "      <td>...</td>\n",
              "      <td>...</td>\n",
              "      <td>...</td>\n",
              "      <td>...</td>\n",
              "      <td>...</td>\n",
              "    </tr>\n",
              "    <tr>\n",
              "      <th>900</th>\n",
              "      <td>Swansea</td>\n",
              "      <td>Everton</td>\n",
              "      <td>0.606897</td>\n",
              "      <td>0.800000</td>\n",
              "      <td>0.606897</td>\n",
              "      <td>1.062069</td>\n",
              "      <td>1</td>\n",
              "    </tr>\n",
              "    <tr>\n",
              "      <th>901</th>\n",
              "      <td>Arsenal</td>\n",
              "      <td>Man United</td>\n",
              "      <td>1.517241</td>\n",
              "      <td>0.606897</td>\n",
              "      <td>1.006897</td>\n",
              "      <td>0.744828</td>\n",
              "      <td>1</td>\n",
              "    </tr>\n",
              "    <tr>\n",
              "      <th>902</th>\n",
              "      <td>Liverpool</td>\n",
              "      <td>Southampton</td>\n",
              "      <td>1.489655</td>\n",
              "      <td>0.413793</td>\n",
              "      <td>0.662069</td>\n",
              "      <td>1.062069</td>\n",
              "      <td>0</td>\n",
              "    </tr>\n",
              "    <tr>\n",
              "      <th>903</th>\n",
              "      <td>Chelsea</td>\n",
              "      <td>Middlesbrough</td>\n",
              "      <td>1.434483</td>\n",
              "      <td>0.551724</td>\n",
              "      <td>0.137931</td>\n",
              "      <td>0.413793</td>\n",
              "      <td>1</td>\n",
              "    </tr>\n",
              "    <tr>\n",
              "      <th>904</th>\n",
              "      <td>Southampton</td>\n",
              "      <td>Arsenal</td>\n",
              "      <td>0.634483</td>\n",
              "      <td>0.813793</td>\n",
              "      <td>1.075862</td>\n",
              "      <td>1.020690</td>\n",
              "      <td>-1</td>\n",
              "    </tr>\n",
              "    <tr>\n",
              "      <th>905</th>\n",
              "      <td>Everton</td>\n",
              "      <td>Watford</td>\n",
              "      <td>1.186207</td>\n",
              "      <td>0.648276</td>\n",
              "      <td>0.565517</td>\n",
              "      <td>1.131034</td>\n",
              "      <td>1</td>\n",
              "    </tr>\n",
              "    <tr>\n",
              "      <th>906</th>\n",
              "      <td>West Brom</td>\n",
              "      <td>Chelsea</td>\n",
              "      <td>0.662069</td>\n",
              "      <td>0.703448</td>\n",
              "      <td>1.075862</td>\n",
              "      <td>0.620690</td>\n",
              "      <td>-1</td>\n",
              "    </tr>\n",
              "    <tr>\n",
              "      <th>907</th>\n",
              "      <td>Bournemouth</td>\n",
              "      <td>Burnley</td>\n",
              "      <td>1.034483</td>\n",
              "      <td>1.006897</td>\n",
              "      <td>0.537931</td>\n",
              "      <td>1.034483</td>\n",
              "      <td>1</td>\n",
              "    </tr>\n",
              "    <tr>\n",
              "      <th>908</th>\n",
              "      <td>Man City</td>\n",
              "      <td>Leicester</td>\n",
              "      <td>1.806897</td>\n",
              "      <td>0.510345</td>\n",
              "      <td>0.813793</td>\n",
              "      <td>1.227586</td>\n",
              "      <td>1</td>\n",
              "    </tr>\n",
              "    <tr>\n",
              "      <th>909</th>\n",
              "      <td>Middlesbrough</td>\n",
              "      <td>Southampton</td>\n",
              "      <td>0.234483</td>\n",
              "      <td>0.317241</td>\n",
              "      <td>0.662069</td>\n",
              "      <td>1.062069</td>\n",
              "      <td>-1</td>\n",
              "    </tr>\n",
              "    <tr>\n",
              "      <th>910</th>\n",
              "      <td>Stoke</td>\n",
              "      <td>Arsenal</td>\n",
              "      <td>0.606897</td>\n",
              "      <td>0.744828</td>\n",
              "      <td>1.075862</td>\n",
              "      <td>1.020690</td>\n",
              "      <td>-1</td>\n",
              "    </tr>\n",
              "    <tr>\n",
              "      <th>911</th>\n",
              "      <td>Sunderland</td>\n",
              "      <td>Swansea</td>\n",
              "      <td>0.220690</td>\n",
              "      <td>0.468966</td>\n",
              "      <td>0.400000</td>\n",
              "      <td>0.937931</td>\n",
              "      <td>-1</td>\n",
              "    </tr>\n",
              "    <tr>\n",
              "      <th>912</th>\n",
              "      <td>Crystal Palace</td>\n",
              "      <td>Hull</td>\n",
              "      <td>0.800000</td>\n",
              "      <td>0.827586</td>\n",
              "      <td>0.124138</td>\n",
              "      <td>0.620690</td>\n",
              "      <td>1</td>\n",
              "    </tr>\n",
              "    <tr>\n",
              "      <th>913</th>\n",
              "      <td>Tottenham</td>\n",
              "      <td>Man United</td>\n",
              "      <td>1.365517</td>\n",
              "      <td>0.427586</td>\n",
              "      <td>1.006897</td>\n",
              "      <td>0.744828</td>\n",
              "      <td>1</td>\n",
              "    </tr>\n",
              "    <tr>\n",
              "      <th>914</th>\n",
              "      <td>West Ham</td>\n",
              "      <td>Liverpool</td>\n",
              "      <td>0.786207</td>\n",
              "      <td>0.979310</td>\n",
              "      <td>1.255172</td>\n",
              "      <td>0.786207</td>\n",
              "      <td>-1</td>\n",
              "    </tr>\n",
              "    <tr>\n",
              "      <th>915</th>\n",
              "      <td>Chelsea</td>\n",
              "      <td>Watford</td>\n",
              "      <td>1.434483</td>\n",
              "      <td>0.551724</td>\n",
              "      <td>0.565517</td>\n",
              "      <td>1.131034</td>\n",
              "      <td>1</td>\n",
              "    </tr>\n",
              "    <tr>\n",
              "      <th>916</th>\n",
              "      <td>Arsenal</td>\n",
              "      <td>Sunderland</td>\n",
              "      <td>1.517241</td>\n",
              "      <td>0.606897</td>\n",
              "      <td>0.179310</td>\n",
              "      <td>0.482759</td>\n",
              "      <td>1</td>\n",
              "    </tr>\n",
              "    <tr>\n",
              "      <th>917</th>\n",
              "      <td>Man City</td>\n",
              "      <td>West Brom</td>\n",
              "      <td>1.806897</td>\n",
              "      <td>0.510345</td>\n",
              "      <td>0.358621</td>\n",
              "      <td>0.772414</td>\n",
              "      <td>1</td>\n",
              "    </tr>\n",
              "    <tr>\n",
              "      <th>918</th>\n",
              "      <td>Southampton</td>\n",
              "      <td>Man United</td>\n",
              "      <td>0.634483</td>\n",
              "      <td>0.813793</td>\n",
              "      <td>1.006897</td>\n",
              "      <td>0.744828</td>\n",
              "      <td>0</td>\n",
              "    </tr>\n",
              "    <tr>\n",
              "      <th>919</th>\n",
              "      <td>Leicester</td>\n",
              "      <td>Tottenham</td>\n",
              "      <td>0.910345</td>\n",
              "      <td>0.758621</td>\n",
              "      <td>1.268966</td>\n",
              "      <td>0.648276</td>\n",
              "      <td>-1</td>\n",
              "    </tr>\n",
              "    <tr>\n",
              "      <th>920</th>\n",
              "      <td>Arsenal</td>\n",
              "      <td>Everton</td>\n",
              "      <td>1.517241</td>\n",
              "      <td>0.606897</td>\n",
              "      <td>0.606897</td>\n",
              "      <td>1.062069</td>\n",
              "      <td>1</td>\n",
              "    </tr>\n",
              "    <tr>\n",
              "      <th>921</th>\n",
              "      <td>Burnley</td>\n",
              "      <td>West Ham</td>\n",
              "      <td>0.703448</td>\n",
              "      <td>0.717241</td>\n",
              "      <td>0.868966</td>\n",
              "      <td>1.186207</td>\n",
              "      <td>-1</td>\n",
              "    </tr>\n",
              "    <tr>\n",
              "      <th>922</th>\n",
              "      <td>Chelsea</td>\n",
              "      <td>Sunderland</td>\n",
              "      <td>1.434483</td>\n",
              "      <td>0.551724</td>\n",
              "      <td>0.179310</td>\n",
              "      <td>0.482759</td>\n",
              "      <td>1</td>\n",
              "    </tr>\n",
              "    <tr>\n",
              "      <th>923</th>\n",
              "      <td>Hull</td>\n",
              "      <td>Tottenham</td>\n",
              "      <td>0.386207</td>\n",
              "      <td>0.482759</td>\n",
              "      <td>1.268966</td>\n",
              "      <td>0.648276</td>\n",
              "      <td>-1</td>\n",
              "    </tr>\n",
              "    <tr>\n",
              "      <th>924</th>\n",
              "      <td>Leicester</td>\n",
              "      <td>Bournemouth</td>\n",
              "      <td>0.910345</td>\n",
              "      <td>0.758621</td>\n",
              "      <td>0.689655</td>\n",
              "      <td>1.144828</td>\n",
              "      <td>0</td>\n",
              "    </tr>\n",
              "    <tr>\n",
              "      <th>925</th>\n",
              "      <td>Liverpool</td>\n",
              "      <td>Middlesbrough</td>\n",
              "      <td>1.489655</td>\n",
              "      <td>0.413793</td>\n",
              "      <td>0.137931</td>\n",
              "      <td>0.413793</td>\n",
              "      <td>1</td>\n",
              "    </tr>\n",
              "    <tr>\n",
              "      <th>926</th>\n",
              "      <td>Man United</td>\n",
              "      <td>Crystal Palace</td>\n",
              "      <td>1.075862</td>\n",
              "      <td>0.441379</td>\n",
              "      <td>0.703448</td>\n",
              "      <td>1.117241</td>\n",
              "      <td>1</td>\n",
              "    </tr>\n",
              "    <tr>\n",
              "      <th>927</th>\n",
              "      <td>Southampton</td>\n",
              "      <td>Stoke</td>\n",
              "      <td>0.634483</td>\n",
              "      <td>0.813793</td>\n",
              "      <td>0.441379</td>\n",
              "      <td>0.965517</td>\n",
              "      <td>-1</td>\n",
              "    </tr>\n",
              "    <tr>\n",
              "      <th>928</th>\n",
              "      <td>Swansea</td>\n",
              "      <td>West Brom</td>\n",
              "      <td>0.606897</td>\n",
              "      <td>0.800000</td>\n",
              "      <td>0.358621</td>\n",
              "      <td>0.772414</td>\n",
              "      <td>1</td>\n",
              "    </tr>\n",
              "    <tr>\n",
              "      <th>929</th>\n",
              "      <td>Watford</td>\n",
              "      <td>Man City</td>\n",
              "      <td>0.910345</td>\n",
              "      <td>1.034483</td>\n",
              "      <td>1.420690</td>\n",
              "      <td>0.537931</td>\n",
              "      <td>-1</td>\n",
              "    </tr>\n",
              "  </tbody>\n",
              "</table>\n",
              "<p>930 rows × 7 columns</p>\n",
              "</div>"
            ],
            "text/plain": [
              "           HomeTeam        AwayTeam       HAS       HDS       AAS       ADS  \\\n",
              "0        Man United       Leicester  1.075862  0.441379  0.813793  1.227586   \n",
              "1       Bournemouth         Cardiff  1.034483  1.006897  0.068966  0.248276   \n",
              "2            Fulham  Crystal Palace  0.137931  0.248276  0.703448  1.117241   \n",
              "3      Huddersfield         Chelsea  0.262069  0.496552  1.075862  0.620690   \n",
              "4         Newcastle       Tottenham  0.386207  0.441379  1.268966  0.648276   \n",
              "5           Watford        Brighton  0.910345  1.034483  0.234483  0.593103   \n",
              "6            Wolves         Everton  0.165517  0.151724  0.606897  1.062069   \n",
              "7           Arsenal        Man City  1.517241  0.606897  1.420690  0.537931   \n",
              "8         Liverpool        West Ham  1.489655  0.413793  0.868966  1.186207   \n",
              "9       Southampton         Burnley  0.634483  0.813793  0.537931  1.034483   \n",
              "10          Cardiff       Newcastle  0.165517  0.206897  0.344828  0.510345   \n",
              "11          Chelsea         Arsenal  1.434483  0.551724  1.075862  1.020690   \n",
              "12          Everton     Southampton  1.186207  0.648276  0.662069  1.062069   \n",
              "13        Leicester          Wolves  0.910345  0.758621  0.096552  0.110345   \n",
              "14        Tottenham          Fulham  1.365517  0.427586  0.082759  0.331034   \n",
              "15         West Ham     Bournemouth  0.786207  0.979310  0.689655  1.144828   \n",
              "16         Brighton      Man United  0.510345  0.482759  1.006897  0.744828   \n",
              "17          Burnley         Watford  0.703448  0.717241  0.565517  1.131034   \n",
              "18         Man City    Huddersfield  1.806897  0.510345  0.262069  0.689655   \n",
              "19   Crystal Palace       Liverpool  0.800000  0.827586  1.255172  0.786207   \n",
              "20          Arsenal        West Ham  1.517241  0.606897  0.868966  1.186207   \n",
              "21      Bournemouth         Everton  1.034483  1.006897  0.606897  1.062069   \n",
              "22     Huddersfield         Cardiff  0.262069  0.496552  0.068966  0.248276   \n",
              "23        Liverpool        Brighton  1.489655  0.413793  0.234483  0.593103   \n",
              "24      Southampton       Leicester  0.634483  0.813793  0.813793  1.227586   \n",
              "25           Wolves        Man City  0.165517  0.151724  1.420690  0.537931   \n",
              "26           Fulham         Burnley  0.137931  0.248276  0.537931  1.034483   \n",
              "27        Newcastle         Chelsea  0.386207  0.441379  1.075862  0.620690   \n",
              "28          Watford  Crystal Palace  0.910345  1.034483  0.703448  1.117241   \n",
              "29       Man United       Tottenham  1.075862  0.441379  1.268966  0.648276   \n",
              "..              ...             ...       ...       ...       ...       ...   \n",
              "900         Swansea         Everton  0.606897  0.800000  0.606897  1.062069   \n",
              "901         Arsenal      Man United  1.517241  0.606897  1.006897  0.744828   \n",
              "902       Liverpool     Southampton  1.489655  0.413793  0.662069  1.062069   \n",
              "903         Chelsea   Middlesbrough  1.434483  0.551724  0.137931  0.413793   \n",
              "904     Southampton         Arsenal  0.634483  0.813793  1.075862  1.020690   \n",
              "905         Everton         Watford  1.186207  0.648276  0.565517  1.131034   \n",
              "906       West Brom         Chelsea  0.662069  0.703448  1.075862  0.620690   \n",
              "907     Bournemouth         Burnley  1.034483  1.006897  0.537931  1.034483   \n",
              "908        Man City       Leicester  1.806897  0.510345  0.813793  1.227586   \n",
              "909   Middlesbrough     Southampton  0.234483  0.317241  0.662069  1.062069   \n",
              "910           Stoke         Arsenal  0.606897  0.744828  1.075862  1.020690   \n",
              "911      Sunderland         Swansea  0.220690  0.468966  0.400000  0.937931   \n",
              "912  Crystal Palace            Hull  0.800000  0.827586  0.124138  0.620690   \n",
              "913       Tottenham      Man United  1.365517  0.427586  1.006897  0.744828   \n",
              "914        West Ham       Liverpool  0.786207  0.979310  1.255172  0.786207   \n",
              "915         Chelsea         Watford  1.434483  0.551724  0.565517  1.131034   \n",
              "916         Arsenal      Sunderland  1.517241  0.606897  0.179310  0.482759   \n",
              "917        Man City       West Brom  1.806897  0.510345  0.358621  0.772414   \n",
              "918     Southampton      Man United  0.634483  0.813793  1.006897  0.744828   \n",
              "919       Leicester       Tottenham  0.910345  0.758621  1.268966  0.648276   \n",
              "920         Arsenal         Everton  1.517241  0.606897  0.606897  1.062069   \n",
              "921         Burnley        West Ham  0.703448  0.717241  0.868966  1.186207   \n",
              "922         Chelsea      Sunderland  1.434483  0.551724  0.179310  0.482759   \n",
              "923            Hull       Tottenham  0.386207  0.482759  1.268966  0.648276   \n",
              "924       Leicester     Bournemouth  0.910345  0.758621  0.689655  1.144828   \n",
              "925       Liverpool   Middlesbrough  1.489655  0.413793  0.137931  0.413793   \n",
              "926      Man United  Crystal Palace  1.075862  0.441379  0.703448  1.117241   \n",
              "927     Southampton           Stoke  0.634483  0.813793  0.441379  0.965517   \n",
              "928         Swansea       West Brom  0.606897  0.800000  0.358621  0.772414   \n",
              "929         Watford        Man City  0.910345  1.034483  1.420690  0.537931   \n",
              "\n",
              "     Result  \n",
              "0         1  \n",
              "1         1  \n",
              "2        -1  \n",
              "3        -1  \n",
              "4        -1  \n",
              "5         1  \n",
              "6         0  \n",
              "7        -1  \n",
              "8         1  \n",
              "9         0  \n",
              "10        0  \n",
              "11        1  \n",
              "12        1  \n",
              "13        1  \n",
              "14        1  \n",
              "15       -1  \n",
              "16        1  \n",
              "17       -1  \n",
              "18        1  \n",
              "19       -1  \n",
              "20        1  \n",
              "21        0  \n",
              "22        0  \n",
              "23        1  \n",
              "24       -1  \n",
              "25        0  \n",
              "26        1  \n",
              "27       -1  \n",
              "28        1  \n",
              "29       -1  \n",
              "..      ...  \n",
              "900       1  \n",
              "901       1  \n",
              "902       0  \n",
              "903       1  \n",
              "904      -1  \n",
              "905       1  \n",
              "906      -1  \n",
              "907       1  \n",
              "908       1  \n",
              "909      -1  \n",
              "910      -1  \n",
              "911      -1  \n",
              "912       1  \n",
              "913       1  \n",
              "914      -1  \n",
              "915       1  \n",
              "916       1  \n",
              "917       1  \n",
              "918       0  \n",
              "919      -1  \n",
              "920       1  \n",
              "921      -1  \n",
              "922       1  \n",
              "923      -1  \n",
              "924       0  \n",
              "925       1  \n",
              "926       1  \n",
              "927      -1  \n",
              "928       1  \n",
              "929      -1  \n",
              "\n",
              "[930 rows x 7 columns]"
            ]
          },
          "metadata": {
            "tags": []
          },
          "execution_count": 102
        }
      ]
    },
    {
      "metadata": {
        "id": "Nst-E7T2MHkv",
        "colab_type": "code",
        "outputId": "5c3c929b-2bda-4e40-aba6-2c43699dab99",
        "colab": {
          "base_uri": "https://localhost:8080/",
          "height": 48
        }
      },
      "cell_type": "code",
      "source": [
        "\n",
        "feat_table = pd.DataFrame(columns = ['HomeTeam', 'AwayTeam'])\n",
        "feat_table \n"
      ],
      "execution_count": 103,
      "outputs": [
        {
          "output_type": "execute_result",
          "data": {
            "text/html": [
              "<div>\n",
              "<style scoped>\n",
              "    .dataframe tbody tr th:only-of-type {\n",
              "        vertical-align: middle;\n",
              "    }\n",
              "\n",
              "    .dataframe tbody tr th {\n",
              "        vertical-align: top;\n",
              "    }\n",
              "\n",
              "    .dataframe thead th {\n",
              "        text-align: right;\n",
              "    }\n",
              "</style>\n",
              "<table border=\"1\" class=\"dataframe\">\n",
              "  <thead>\n",
              "    <tr style=\"text-align: right;\">\n",
              "      <th></th>\n",
              "      <th>HomeTeam</th>\n",
              "      <th>AwayTeam</th>\n",
              "    </tr>\n",
              "  </thead>\n",
              "  <tbody>\n",
              "  </tbody>\n",
              "</table>\n",
              "</div>"
            ],
            "text/plain": [
              "Empty DataFrame\n",
              "Columns: [HomeTeam, AwayTeam]\n",
              "Index: []"
            ]
          },
          "metadata": {
            "tags": []
          },
          "execution_count": 103
        }
      ]
    },
    {
      "metadata": {
        "id": "NWXO0scqWxFe",
        "colab_type": "code",
        "outputId": "8d84ea2e-50a1-4653-d5a2-46db946f6256",
        "colab": {
          "base_uri": "https://localhost:8080/",
          "height": 170
        }
      },
      "cell_type": "code",
      "source": [
        "\n",
        "new_fixtures = pd.DataFrame( {'HomeTeam' :['West Ham','Arsenal',\n",
        "                             'Liverpool', 'Man City'], 'AwayTeam':['West Brom',\n",
        "                             'Man United','Bournemouth', 'West Ham']}\n",
        "                            )\n",
        "new_fixtures"
      ],
      "execution_count": 106,
      "outputs": [
        {
          "output_type": "execute_result",
          "data": {
            "text/html": [
              "<div>\n",
              "<style scoped>\n",
              "    .dataframe tbody tr th:only-of-type {\n",
              "        vertical-align: middle;\n",
              "    }\n",
              "\n",
              "    .dataframe tbody tr th {\n",
              "        vertical-align: top;\n",
              "    }\n",
              "\n",
              "    .dataframe thead th {\n",
              "        text-align: right;\n",
              "    }\n",
              "</style>\n",
              "<table border=\"1\" class=\"dataframe\">\n",
              "  <thead>\n",
              "    <tr style=\"text-align: right;\">\n",
              "      <th></th>\n",
              "      <th>AwayTeam</th>\n",
              "      <th>HomeTeam</th>\n",
              "    </tr>\n",
              "  </thead>\n",
              "  <tbody>\n",
              "    <tr>\n",
              "      <th>0</th>\n",
              "      <td>West Brom</td>\n",
              "      <td>West Ham</td>\n",
              "    </tr>\n",
              "    <tr>\n",
              "      <th>1</th>\n",
              "      <td>Man United</td>\n",
              "      <td>Arsenal</td>\n",
              "    </tr>\n",
              "    <tr>\n",
              "      <th>2</th>\n",
              "      <td>Bournemouth</td>\n",
              "      <td>Liverpool</td>\n",
              "    </tr>\n",
              "    <tr>\n",
              "      <th>3</th>\n",
              "      <td>West Ham</td>\n",
              "      <td>Man City</td>\n",
              "    </tr>\n",
              "  </tbody>\n",
              "</table>\n",
              "</div>"
            ],
            "text/plain": [
              "      AwayTeam   HomeTeam\n",
              "0    West Brom   West Ham\n",
              "1   Man United    Arsenal\n",
              "2  Bournemouth  Liverpool\n",
              "3     West Ham   Man City"
            ]
          },
          "metadata": {
            "tags": []
          },
          "execution_count": 106
        }
      ]
    },
    {
      "metadata": {
        "id": "J-ooHokjbHjI",
        "colab_type": "code",
        "colab": {}
      },
      "cell_type": "code",
      "source": [
        "\n",
        "\n",
        "f_HAS =[]\n",
        "f_HDS =[]\n",
        "f_ADS =[]\n",
        "f_AAS =[]\n",
        "\n",
        "for index, row in new_fixtures.iterrows():\n",
        "    #print row\n",
        "    f_HAS.append(NewTable[NewTable['Team'] == row['HomeTeam']]['HAS'].values[0])\n",
        "    f_HDS.append(NewTable[NewTable['Team'] == row['HomeTeam']]['HDS'].values[0])\n",
        "    f_AAS.append(NewTable[NewTable['Team'] == row['HomeTeam']]['AAS'].values[0])\n",
        "    f_ADS.append(NewTable[NewTable['Team'] == row['HomeTeam']]['ADS'].values[0])\n",
        "\n",
        "    \n",
        "   \n",
        "new_fixtures['HAS'] = f_HAS\n",
        "new_fixtures['HDS'] = f_HDS\n",
        "new_fixtures['ADS'] = f_ADS\n",
        "new_fixtures['AAS'] = f_AAS\n",
        "\n"
      ],
      "execution_count": 0,
      "outputs": []
    },
    {
      "metadata": {
        "id": "ByZq9UTwivaV",
        "colab_type": "code",
        "outputId": "c1b9e0d0-ef76-4e8a-d217-a0976b59cc13",
        "colab": {
          "base_uri": "https://localhost:8080/",
          "height": 170
        }
      },
      "cell_type": "code",
      "source": [
        "new_fixtures"
      ],
      "execution_count": 108,
      "outputs": [
        {
          "output_type": "execute_result",
          "data": {
            "text/html": [
              "<div>\n",
              "<style scoped>\n",
              "    .dataframe tbody tr th:only-of-type {\n",
              "        vertical-align: middle;\n",
              "    }\n",
              "\n",
              "    .dataframe tbody tr th {\n",
              "        vertical-align: top;\n",
              "    }\n",
              "\n",
              "    .dataframe thead th {\n",
              "        text-align: right;\n",
              "    }\n",
              "</style>\n",
              "<table border=\"1\" class=\"dataframe\">\n",
              "  <thead>\n",
              "    <tr style=\"text-align: right;\">\n",
              "      <th></th>\n",
              "      <th>AwayTeam</th>\n",
              "      <th>HomeTeam</th>\n",
              "      <th>HAS</th>\n",
              "      <th>HDS</th>\n",
              "      <th>ADS</th>\n",
              "      <th>AAS</th>\n",
              "    </tr>\n",
              "  </thead>\n",
              "  <tbody>\n",
              "    <tr>\n",
              "      <th>0</th>\n",
              "      <td>West Brom</td>\n",
              "      <td>West Ham</td>\n",
              "      <td>0.786207</td>\n",
              "      <td>0.979310</td>\n",
              "      <td>1.186207</td>\n",
              "      <td>0.868966</td>\n",
              "    </tr>\n",
              "    <tr>\n",
              "      <th>1</th>\n",
              "      <td>Man United</td>\n",
              "      <td>Arsenal</td>\n",
              "      <td>1.517241</td>\n",
              "      <td>0.606897</td>\n",
              "      <td>1.020690</td>\n",
              "      <td>1.075862</td>\n",
              "    </tr>\n",
              "    <tr>\n",
              "      <th>2</th>\n",
              "      <td>Bournemouth</td>\n",
              "      <td>Liverpool</td>\n",
              "      <td>1.489655</td>\n",
              "      <td>0.413793</td>\n",
              "      <td>0.786207</td>\n",
              "      <td>1.255172</td>\n",
              "    </tr>\n",
              "    <tr>\n",
              "      <th>3</th>\n",
              "      <td>West Ham</td>\n",
              "      <td>Man City</td>\n",
              "      <td>1.806897</td>\n",
              "      <td>0.510345</td>\n",
              "      <td>0.537931</td>\n",
              "      <td>1.420690</td>\n",
              "    </tr>\n",
              "  </tbody>\n",
              "</table>\n",
              "</div>"
            ],
            "text/plain": [
              "      AwayTeam   HomeTeam       HAS       HDS       ADS       AAS\n",
              "0    West Brom   West Ham  0.786207  0.979310  1.186207  0.868966\n",
              "1   Man United    Arsenal  1.517241  0.606897  1.020690  1.075862\n",
              "2  Bournemouth  Liverpool  1.489655  0.413793  0.786207  1.255172\n",
              "3     West Ham   Man City  1.806897  0.510345  0.537931  1.420690"
            ]
          },
          "metadata": {
            "tags": []
          },
          "execution_count": 108
        }
      ]
    },
    {
      "metadata": {
        "id": "Yo9XFcHQ3klA",
        "colab_type": "code",
        "outputId": "b0287167-f26b-4eec-f437-c96df391b848",
        "colab": {
          "base_uri": "https://localhost:8080/",
          "height": 170
        }
      },
      "cell_type": "code",
      "source": [
        "test_table = new_fixtures\n",
        "test_table"
      ],
      "execution_count": 109,
      "outputs": [
        {
          "output_type": "execute_result",
          "data": {
            "text/html": [
              "<div>\n",
              "<style scoped>\n",
              "    .dataframe tbody tr th:only-of-type {\n",
              "        vertical-align: middle;\n",
              "    }\n",
              "\n",
              "    .dataframe tbody tr th {\n",
              "        vertical-align: top;\n",
              "    }\n",
              "\n",
              "    .dataframe thead th {\n",
              "        text-align: right;\n",
              "    }\n",
              "</style>\n",
              "<table border=\"1\" class=\"dataframe\">\n",
              "  <thead>\n",
              "    <tr style=\"text-align: right;\">\n",
              "      <th></th>\n",
              "      <th>AwayTeam</th>\n",
              "      <th>HomeTeam</th>\n",
              "      <th>HAS</th>\n",
              "      <th>HDS</th>\n",
              "      <th>ADS</th>\n",
              "      <th>AAS</th>\n",
              "    </tr>\n",
              "  </thead>\n",
              "  <tbody>\n",
              "    <tr>\n",
              "      <th>0</th>\n",
              "      <td>West Brom</td>\n",
              "      <td>West Ham</td>\n",
              "      <td>0.786207</td>\n",
              "      <td>0.979310</td>\n",
              "      <td>1.186207</td>\n",
              "      <td>0.868966</td>\n",
              "    </tr>\n",
              "    <tr>\n",
              "      <th>1</th>\n",
              "      <td>Man United</td>\n",
              "      <td>Arsenal</td>\n",
              "      <td>1.517241</td>\n",
              "      <td>0.606897</td>\n",
              "      <td>1.020690</td>\n",
              "      <td>1.075862</td>\n",
              "    </tr>\n",
              "    <tr>\n",
              "      <th>2</th>\n",
              "      <td>Bournemouth</td>\n",
              "      <td>Liverpool</td>\n",
              "      <td>1.489655</td>\n",
              "      <td>0.413793</td>\n",
              "      <td>0.786207</td>\n",
              "      <td>1.255172</td>\n",
              "    </tr>\n",
              "    <tr>\n",
              "      <th>3</th>\n",
              "      <td>West Ham</td>\n",
              "      <td>Man City</td>\n",
              "      <td>1.806897</td>\n",
              "      <td>0.510345</td>\n",
              "      <td>0.537931</td>\n",
              "      <td>1.420690</td>\n",
              "    </tr>\n",
              "  </tbody>\n",
              "</table>\n",
              "</div>"
            ],
            "text/plain": [
              "      AwayTeam   HomeTeam       HAS       HDS       ADS       AAS\n",
              "0    West Brom   West Ham  0.786207  0.979310  1.186207  0.868966\n",
              "1   Man United    Arsenal  1.517241  0.606897  1.020690  1.075862\n",
              "2  Bournemouth  Liverpool  1.489655  0.413793  0.786207  1.255172\n",
              "3     West Ham   Man City  1.806897  0.510345  0.537931  1.420690"
            ]
          },
          "metadata": {
            "tags": []
          },
          "execution_count": 109
        }
      ]
    },
    {
      "metadata": {
        "id": "wPseu-Ylvq8H",
        "colab_type": "code",
        "outputId": "bf6078d9-5e8e-4b22-9873-2ec852a3d6ec",
        "colab": {
          "base_uri": "https://localhost:8080/",
          "height": 35
        }
      },
      "cell_type": "code",
      "source": [
        "new_feat_table = new_fixtures.append(UpdatedTable,ignore_index=True)\n",
        "new_feat_table = new_feat_table.sort_index(ascending=False)\n",
        "new_feat_table = new_feat_table.reset_index().drop(['index'], axis=1)\n",
        "new_feat_table = new_feat_table.sort_index(ascending=False)\n",
        "feat_table = new_feat_table\n",
        "feat_table.shape"
      ],
      "execution_count": 110,
      "outputs": [
        {
          "output_type": "execute_result",
          "data": {
            "text/plain": [
              "(934, 7)"
            ]
          },
          "metadata": {
            "tags": []
          },
          "execution_count": 110
        }
      ]
    },
    {
      "metadata": {
        "id": "8cT9TBeyCIPp",
        "colab_type": "code",
        "outputId": "a80df427-6561-4588-e7cf-9b8e211aef9b",
        "colab": {
          "base_uri": "https://localhost:8080/",
          "height": 352
        }
      },
      "cell_type": "code",
      "source": [
        "feat_table.head(10)"
      ],
      "execution_count": 111,
      "outputs": [
        {
          "output_type": "execute_result",
          "data": {
            "text/html": [
              "<div>\n",
              "<style scoped>\n",
              "    .dataframe tbody tr th:only-of-type {\n",
              "        vertical-align: middle;\n",
              "    }\n",
              "\n",
              "    .dataframe tbody tr th {\n",
              "        vertical-align: top;\n",
              "    }\n",
              "\n",
              "    .dataframe thead th {\n",
              "        text-align: right;\n",
              "    }\n",
              "</style>\n",
              "<table border=\"1\" class=\"dataframe\">\n",
              "  <thead>\n",
              "    <tr style=\"text-align: right;\">\n",
              "      <th></th>\n",
              "      <th>AAS</th>\n",
              "      <th>ADS</th>\n",
              "      <th>AwayTeam</th>\n",
              "      <th>HAS</th>\n",
              "      <th>HDS</th>\n",
              "      <th>HomeTeam</th>\n",
              "      <th>Result</th>\n",
              "    </tr>\n",
              "  </thead>\n",
              "  <tbody>\n",
              "    <tr>\n",
              "      <th>933</th>\n",
              "      <td>0.868966</td>\n",
              "      <td>1.186207</td>\n",
              "      <td>West Brom</td>\n",
              "      <td>0.786207</td>\n",
              "      <td>0.979310</td>\n",
              "      <td>West Ham</td>\n",
              "      <td>NaN</td>\n",
              "    </tr>\n",
              "    <tr>\n",
              "      <th>932</th>\n",
              "      <td>1.075862</td>\n",
              "      <td>1.020690</td>\n",
              "      <td>Man United</td>\n",
              "      <td>1.517241</td>\n",
              "      <td>0.606897</td>\n",
              "      <td>Arsenal</td>\n",
              "      <td>NaN</td>\n",
              "    </tr>\n",
              "    <tr>\n",
              "      <th>931</th>\n",
              "      <td>1.255172</td>\n",
              "      <td>0.786207</td>\n",
              "      <td>Bournemouth</td>\n",
              "      <td>1.489655</td>\n",
              "      <td>0.413793</td>\n",
              "      <td>Liverpool</td>\n",
              "      <td>NaN</td>\n",
              "    </tr>\n",
              "    <tr>\n",
              "      <th>930</th>\n",
              "      <td>1.420690</td>\n",
              "      <td>0.537931</td>\n",
              "      <td>West Ham</td>\n",
              "      <td>1.806897</td>\n",
              "      <td>0.510345</td>\n",
              "      <td>Man City</td>\n",
              "      <td>NaN</td>\n",
              "    </tr>\n",
              "    <tr>\n",
              "      <th>929</th>\n",
              "      <td>0.813793</td>\n",
              "      <td>1.227586</td>\n",
              "      <td>Leicester</td>\n",
              "      <td>1.075862</td>\n",
              "      <td>0.441379</td>\n",
              "      <td>Man United</td>\n",
              "      <td>1.0</td>\n",
              "    </tr>\n",
              "    <tr>\n",
              "      <th>928</th>\n",
              "      <td>0.068966</td>\n",
              "      <td>0.248276</td>\n",
              "      <td>Cardiff</td>\n",
              "      <td>1.034483</td>\n",
              "      <td>1.006897</td>\n",
              "      <td>Bournemouth</td>\n",
              "      <td>1.0</td>\n",
              "    </tr>\n",
              "    <tr>\n",
              "      <th>927</th>\n",
              "      <td>0.703448</td>\n",
              "      <td>1.117241</td>\n",
              "      <td>Crystal Palace</td>\n",
              "      <td>0.137931</td>\n",
              "      <td>0.248276</td>\n",
              "      <td>Fulham</td>\n",
              "      <td>-1.0</td>\n",
              "    </tr>\n",
              "    <tr>\n",
              "      <th>926</th>\n",
              "      <td>1.075862</td>\n",
              "      <td>0.620690</td>\n",
              "      <td>Chelsea</td>\n",
              "      <td>0.262069</td>\n",
              "      <td>0.496552</td>\n",
              "      <td>Huddersfield</td>\n",
              "      <td>-1.0</td>\n",
              "    </tr>\n",
              "    <tr>\n",
              "      <th>925</th>\n",
              "      <td>1.268966</td>\n",
              "      <td>0.648276</td>\n",
              "      <td>Tottenham</td>\n",
              "      <td>0.386207</td>\n",
              "      <td>0.441379</td>\n",
              "      <td>Newcastle</td>\n",
              "      <td>-1.0</td>\n",
              "    </tr>\n",
              "    <tr>\n",
              "      <th>924</th>\n",
              "      <td>0.234483</td>\n",
              "      <td>0.593103</td>\n",
              "      <td>Brighton</td>\n",
              "      <td>0.910345</td>\n",
              "      <td>1.034483</td>\n",
              "      <td>Watford</td>\n",
              "      <td>1.0</td>\n",
              "    </tr>\n",
              "  </tbody>\n",
              "</table>\n",
              "</div>"
            ],
            "text/plain": [
              "          AAS       ADS        AwayTeam       HAS       HDS      HomeTeam  \\\n",
              "933  0.868966  1.186207       West Brom  0.786207  0.979310      West Ham   \n",
              "932  1.075862  1.020690      Man United  1.517241  0.606897       Arsenal   \n",
              "931  1.255172  0.786207     Bournemouth  1.489655  0.413793     Liverpool   \n",
              "930  1.420690  0.537931        West Ham  1.806897  0.510345      Man City   \n",
              "929  0.813793  1.227586       Leicester  1.075862  0.441379    Man United   \n",
              "928  0.068966  0.248276         Cardiff  1.034483  1.006897   Bournemouth   \n",
              "927  0.703448  1.117241  Crystal Palace  0.137931  0.248276        Fulham   \n",
              "926  1.075862  0.620690         Chelsea  0.262069  0.496552  Huddersfield   \n",
              "925  1.268966  0.648276       Tottenham  0.386207  0.441379     Newcastle   \n",
              "924  0.234483  0.593103        Brighton  0.910345  1.034483       Watford   \n",
              "\n",
              "     Result  \n",
              "933     NaN  \n",
              "932     NaN  \n",
              "931     NaN  \n",
              "930     NaN  \n",
              "929     1.0  \n",
              "928     1.0  \n",
              "927    -1.0  \n",
              "926    -1.0  \n",
              "925    -1.0  \n",
              "924     1.0  "
            ]
          },
          "metadata": {
            "tags": []
          },
          "execution_count": 111
        }
      ]
    },
    {
      "metadata": {
        "id": "p90DoruMTM3Y",
        "colab_type": "code",
        "outputId": "f883bcba-332f-4103-fbfe-9feff6699fdd",
        "colab": {
          "base_uri": "https://localhost:8080/",
          "height": 35
        }
      },
      "cell_type": "code",
      "source": [
        "num_games = feat_table.shape[0]-10\n",
        "num_games"
      ],
      "execution_count": 112,
      "outputs": [
        {
          "output_type": "execute_result",
          "data": {
            "text/plain": [
              "924"
            ]
          },
          "metadata": {
            "tags": []
          },
          "execution_count": 112
        }
      ]
    },
    {
      "metadata": {
        "id": "JsdVf3_AVy2T",
        "colab_type": "code",
        "outputId": "67fca82c-e64f-475f-b3e7-e15abadf8282",
        "colab": {
          "base_uri": "https://localhost:8080/",
          "height": 52
        }
      },
      "cell_type": "code",
      "source": [
        "num_games = feat_table.shape[0]-10\n",
        "print(num_games)\n",
        "n_split = 15\n",
        "n_games = num_games - n_split\n",
        "n_games"
      ],
      "execution_count": 113,
      "outputs": [
        {
          "output_type": "stream",
          "text": [
            "924\n"
          ],
          "name": "stdout"
        },
        {
          "output_type": "execute_result",
          "data": {
            "text/plain": [
              "909"
            ]
          },
          "metadata": {
            "tags": []
          },
          "execution_count": 113
        }
      ]
    },
    {
      "metadata": {
        "id": "w-9Bf51wUlGD",
        "colab_type": "code",
        "outputId": "d1409a47-c396-48d6-b768-a94640a6361b",
        "colab": {
          "base_uri": "https://localhost:8080/",
          "height": 200
        }
      },
      "cell_type": "code",
      "source": [
        "UpdatedTable.head()"
      ],
      "execution_count": 114,
      "outputs": [
        {
          "output_type": "execute_result",
          "data": {
            "text/html": [
              "<div>\n",
              "<style scoped>\n",
              "    .dataframe tbody tr th:only-of-type {\n",
              "        vertical-align: middle;\n",
              "    }\n",
              "\n",
              "    .dataframe tbody tr th {\n",
              "        vertical-align: top;\n",
              "    }\n",
              "\n",
              "    .dataframe thead th {\n",
              "        text-align: right;\n",
              "    }\n",
              "</style>\n",
              "<table border=\"1\" class=\"dataframe\">\n",
              "  <thead>\n",
              "    <tr style=\"text-align: right;\">\n",
              "      <th></th>\n",
              "      <th>HomeTeam</th>\n",
              "      <th>AwayTeam</th>\n",
              "      <th>HAS</th>\n",
              "      <th>HDS</th>\n",
              "      <th>AAS</th>\n",
              "      <th>ADS</th>\n",
              "      <th>Result</th>\n",
              "    </tr>\n",
              "  </thead>\n",
              "  <tbody>\n",
              "    <tr>\n",
              "      <th>0</th>\n",
              "      <td>Man United</td>\n",
              "      <td>Leicester</td>\n",
              "      <td>1.075862</td>\n",
              "      <td>0.441379</td>\n",
              "      <td>0.813793</td>\n",
              "      <td>1.227586</td>\n",
              "      <td>1</td>\n",
              "    </tr>\n",
              "    <tr>\n",
              "      <th>1</th>\n",
              "      <td>Bournemouth</td>\n",
              "      <td>Cardiff</td>\n",
              "      <td>1.034483</td>\n",
              "      <td>1.006897</td>\n",
              "      <td>0.068966</td>\n",
              "      <td>0.248276</td>\n",
              "      <td>1</td>\n",
              "    </tr>\n",
              "    <tr>\n",
              "      <th>2</th>\n",
              "      <td>Fulham</td>\n",
              "      <td>Crystal Palace</td>\n",
              "      <td>0.137931</td>\n",
              "      <td>0.248276</td>\n",
              "      <td>0.703448</td>\n",
              "      <td>1.117241</td>\n",
              "      <td>-1</td>\n",
              "    </tr>\n",
              "    <tr>\n",
              "      <th>3</th>\n",
              "      <td>Huddersfield</td>\n",
              "      <td>Chelsea</td>\n",
              "      <td>0.262069</td>\n",
              "      <td>0.496552</td>\n",
              "      <td>1.075862</td>\n",
              "      <td>0.620690</td>\n",
              "      <td>-1</td>\n",
              "    </tr>\n",
              "    <tr>\n",
              "      <th>4</th>\n",
              "      <td>Newcastle</td>\n",
              "      <td>Tottenham</td>\n",
              "      <td>0.386207</td>\n",
              "      <td>0.441379</td>\n",
              "      <td>1.268966</td>\n",
              "      <td>0.648276</td>\n",
              "      <td>-1</td>\n",
              "    </tr>\n",
              "  </tbody>\n",
              "</table>\n",
              "</div>"
            ],
            "text/plain": [
              "       HomeTeam        AwayTeam       HAS       HDS       AAS       ADS  \\\n",
              "0    Man United       Leicester  1.075862  0.441379  0.813793  1.227586   \n",
              "1   Bournemouth         Cardiff  1.034483  1.006897  0.068966  0.248276   \n",
              "2        Fulham  Crystal Palace  0.137931  0.248276  0.703448  1.117241   \n",
              "3  Huddersfield         Chelsea  0.262069  0.496552  1.075862  0.620690   \n",
              "4     Newcastle       Tottenham  0.386207  0.441379  1.268966  0.648276   \n",
              "\n",
              "   Result  \n",
              "0       1  \n",
              "1       1  \n",
              "2      -1  \n",
              "3      -1  \n",
              "4      -1  "
            ]
          },
          "metadata": {
            "tags": []
          },
          "execution_count": 114
        }
      ]
    },
    {
      "metadata": {
        "id": "g8bgblzj2qGY",
        "colab_type": "text"
      },
      "cell_type": "markdown",
      "source": [
        "###Training and Testing the models"
      ]
    },
    {
      "metadata": {
        "id": "NAYUqwy6wUHV",
        "colab_type": "code",
        "colab": {}
      },
      "cell_type": "code",
      "source": [
        "\n",
        "X_train = UpdatedTable[['HAS','HDS','AAS','ADS',]].loc[0:n_games]\n",
        "y_train = UpdatedTable['Result'].loc[0:n_games]\n",
        "X_test = UpdatedTable[['HAS','HDS','AAS','ADS',]].loc[n_games:num_games-1]\n",
        "y_test = UpdatedTable[['Result']].loc[n_games:num_games-1]"
      ],
      "execution_count": 0,
      "outputs": []
    },
    {
      "metadata": {
        "id": "KEwe4E4R2Li0",
        "colab_type": "code",
        "colab": {}
      },
      "cell_type": "code",
      "source": [
        "#Xgboost\n",
        "plot_scores_XGB = []\n",
        "for i in range(1,100):\n",
        "    clf_XGB = XGBClassifier(n_estimators=i,max_depth=100)\n",
        "    clf_XGB.fit(X_train, y_train)\n",
        "    scores = accuracy_score(y_test,clf_XGB.predict(X_test))\n",
        "    plot_scores_XGB.append(scores)\n",
        "    \n",
        "    \n",
        "#Logistic Regression\n",
        "plot_scores_logreg= []\n",
        "cs = [0.01,0.02,0.1,0.5,1,3,4,5,10]\n",
        "for c in cs:\n",
        "    clf_logreg = LogisticRegression(C=c,solver='lbfgs',multi_class='ovr')\n",
        "    clf_logreg.fit(X_train, y_train)\n",
        "    scores = accuracy_score(y_test,clf_logreg.predict(X_test))\n",
        "    plot_scores_logreg.append(scores)\n",
        "    \n",
        "#KNN\n",
        "plot_scores_knn = []\n",
        "for b in range(1,50):\n",
        "    clf_knn = KNeighborsClassifier(n_neighbors=b)\n",
        "    clf_knn.fit(X_train,y_train)\n",
        "    scores = accuracy_score(y_test,clf_knn.predict(X_test))\n",
        "    plot_scores_knn.append(scores)\n",
        "\n"
      ],
      "execution_count": 0,
      "outputs": []
    },
    {
      "metadata": {
        "id": "Jp7Al2GK2jZs",
        "colab_type": "code",
        "outputId": "be5bbee9-5102-4e7b-8248-ad7304d4db97",
        "colab": {
          "base_uri": "https://localhost:8080/",
          "height": 509
        }
      },
      "cell_type": "code",
      "source": [
        "fig = plt.figure(figsize = (16,7))\n",
        "# plt.style.use('ggplot')\n",
        "\n",
        "\n",
        "ax1 = fig.add_subplot(1,3,1)\n",
        "ax1.plot(range(1,50),plot_scores_knn);\n",
        "ax1.set_title(\"KNN - Accuracy vs N\")\n",
        "ax1.set_xticks(range(1,50,5));\n",
        "\n",
        "ax2 = fig.add_subplot(1,3,2)\n",
        "ax2.plot(range(1,100),plot_scores_XGB);\n",
        "ax2.set_xticks(range(1,100,6));\n",
        "ax2.set_title(\"XGB - Accuracy vs n_estimators\")\n",
        "\n",
        "\n",
        "\n",
        "ax3 = fig.add_subplot(1,3,3)\n",
        "ax3.plot(range(1,10),plot_scores_logreg);\n",
        "ax3.set_xticks(range(1,10));\n",
        "ax3.set_title(\"Logistic Regression - Accuracy vs C\")\n",
        "\n",
        "fig.tight_layout()"
      ],
      "execution_count": 117,
      "outputs": [
        {
          "output_type": "display_data",
          "data": {
            "image/png": "[encoded data removed]",
            "text/plain": [
              "<matplotlib.figure.Figure at 0x7feeda4b8278>"
            ]
          },
          "metadata": {
            "tags": []
          }
        }
      ]
    },
    {
      "metadata": {
        "id": "_pVw9LkI3BI8",
        "colab_type": "code",
        "colab": {}
      },
      "cell_type": "code",
      "source": [
        "max_XGB_e = max(plot_scores_XGB)\n",
        "max_XGB_ind = plot_scores_XGB.index(max_XGB_e) if plot_scores_XGB.index(max_XGB_e)!=0 else 1\n",
        "\n",
        "max_knn_n = max(plot_scores_knn)\n",
        "max_knn_ind = plot_scores_knn.index(max_knn_n)\n",
        "\n",
        "max_logreg_c = max(plot_scores_logreg)\n",
        "max_logreg_ind = plot_scores_logreg.index(max_logreg_c)\n",
        "\n"
      ],
      "execution_count": 0,
      "outputs": []
    },
    {
      "metadata": {
        "id": "e1MX40so3C3w",
        "colab_type": "code",
        "outputId": "b5062050-aa39-4331-d8f6-b374885e380c",
        "colab": {
          "base_uri": "https://localhost:8080/",
          "height": 70
        }
      },
      "cell_type": "code",
      "source": [
        "print(max_knn_n, max_knn_ind)\n",
        "print(max_XGB_e, max_XGB_ind)\n",
        "print(max_logreg_c, max_logreg_ind)"
      ],
      "execution_count": 119,
      "outputs": [
        {
          "output_type": "stream",
          "text": [
            "0.8666666666666667 10\n",
            "0.7333333333333333 23\n",
            "0.8 2\n"
          ],
          "name": "stdout"
        }
      ]
    },
    {
      "metadata": {
        "id": "A40SBOTs3Zjy",
        "colab_type": "code",
        "colab": {}
      },
      "cell_type": "code",
      "source": [
        "X_predict = feat_table[['HAS','HDS','AAS','ADS']]"
      ],
      "execution_count": 0,
      "outputs": []
    },
    {
      "metadata": {
        "id": "OBVQt1ZJ3TUD",
        "colab_type": "code",
        "colab": {}
      },
      "cell_type": "code",
      "source": [
        "clf_XGB = XGBClassifier(n_estimators=max_XGB_ind).fit(X_train,y_train)\n",
        "clf_knn = KNeighborsClassifier(n_neighbors=1).fit(X_train,y_train)\n",
        "clf_logreg = LogisticRegression(C=max_logreg_ind,solver='lbfgs',multi_class='ovr').fit(X_train,y_train)"
      ],
      "execution_count": 0,
      "outputs": []
    },
    {
      "metadata": {
        "id": "yvyaXNDL4zhk",
        "colab_type": "code",
        "outputId": "a5d8f5d6-eb50-4e51-a148-a85fb0bcf9ec",
        "colab": {
          "base_uri": "https://localhost:8080/",
          "height": 200
        }
      },
      "cell_type": "code",
      "source": [
        "X_predict.head()"
      ],
      "execution_count": 126,
      "outputs": [
        {
          "output_type": "execute_result",
          "data": {
            "text/html": [
              "<div>\n",
              "<style scoped>\n",
              "    .dataframe tbody tr th:only-of-type {\n",
              "        vertical-align: middle;\n",
              "    }\n",
              "\n",
              "    .dataframe tbody tr th {\n",
              "        vertical-align: top;\n",
              "    }\n",
              "\n",
              "    .dataframe thead th {\n",
              "        text-align: right;\n",
              "    }\n",
              "</style>\n",
              "<table border=\"1\" class=\"dataframe\">\n",
              "  <thead>\n",
              "    <tr style=\"text-align: right;\">\n",
              "      <th></th>\n",
              "      <th>HAS</th>\n",
              "      <th>HDS</th>\n",
              "      <th>AAS</th>\n",
              "      <th>ADS</th>\n",
              "    </tr>\n",
              "  </thead>\n",
              "  <tbody>\n",
              "    <tr>\n",
              "      <th>933</th>\n",
              "      <td>0.786207</td>\n",
              "      <td>0.979310</td>\n",
              "      <td>0.868966</td>\n",
              "      <td>1.186207</td>\n",
              "    </tr>\n",
              "    <tr>\n",
              "      <th>932</th>\n",
              "      <td>1.517241</td>\n",
              "      <td>0.606897</td>\n",
              "      <td>1.075862</td>\n",
              "      <td>1.020690</td>\n",
              "    </tr>\n",
              "    <tr>\n",
              "      <th>931</th>\n",
              "      <td>1.489655</td>\n",
              "      <td>0.413793</td>\n",
              "      <td>1.255172</td>\n",
              "      <td>0.786207</td>\n",
              "    </tr>\n",
              "    <tr>\n",
              "      <th>930</th>\n",
              "      <td>1.806897</td>\n",
              "      <td>0.510345</td>\n",
              "      <td>1.420690</td>\n",
              "      <td>0.537931</td>\n",
              "    </tr>\n",
              "    <tr>\n",
              "      <th>929</th>\n",
              "      <td>1.075862</td>\n",
              "      <td>0.441379</td>\n",
              "      <td>0.813793</td>\n",
              "      <td>1.227586</td>\n",
              "    </tr>\n",
              "  </tbody>\n",
              "</table>\n",
              "</div>"
            ],
            "text/plain": [
              "          HAS       HDS       AAS       ADS\n",
              "933  0.786207  0.979310  0.868966  1.186207\n",
              "932  1.517241  0.606897  1.075862  1.020690\n",
              "931  1.489655  0.413793  1.255172  0.786207\n",
              "930  1.806897  0.510345  1.420690  0.537931\n",
              "929  1.075862  0.441379  0.813793  1.227586"
            ]
          },
          "metadata": {
            "tags": []
          },
          "execution_count": 126
        }
      ]
    },
    {
      "metadata": {
        "id": "rstCbxQl578H",
        "colab_type": "code",
        "colab": {}
      },
      "cell_type": "code",
      "source": [
        "y_pred_XGB = clf_XGB.predict(X_predict)\n",
        "y_pred_logreg = clf_logreg.predict(X_predict)\n",
        "y_pred_knn = clf_knn.predict(X_predict)"
      ],
      "execution_count": 0,
      "outputs": []
    },
    {
      "metadata": {
        "id": "VKawk2VQ207l",
        "colab_type": "text"
      },
      "cell_type": "markdown",
      "source": [
        "###Making prediction of the upcoming fixtures"
      ]
    },
    {
      "metadata": {
        "id": "w76oYnbqr1VY",
        "colab_type": "code",
        "outputId": "dce16e8e-26c2-4070-87b6-97e600883de2",
        "colab": {
          "base_uri": "https://localhost:8080/",
          "height": 520
        }
      },
      "cell_type": "code",
      "source": [
        "this_week = feat_table[['HomeTeam','AwayTeam']]\n",
        "this_week['Result_XGB']=y_pred_XGB\n",
        "this_week['Result_knn']=y_pred_knn\n",
        "this_week['Result_logreg']=y_pred_logreg\n",
        "\n",
        "this_week.head(5)"
      ],
      "execution_count": 125,
      "outputs": [
        {
          "output_type": "stream",
          "text": [
            "/usr/local/lib/python3.6/dist-packages/ipykernel_launcher.py:2: SettingWithCopyWarning: \n",
            "A value is trying to be set on a copy of a slice from a DataFrame.\n",
            "Try using .loc[row_indexer,col_indexer] = value instead\n",
            "\n",
            "See the caveats in the documentation: http://pandas.pydata.org/pandas-docs/stable/indexing.html#indexing-view-versus-copy\n",
            "  \n",
            "/usr/local/lib/python3.6/dist-packages/ipykernel_launcher.py:3: SettingWithCopyWarning: \n",
            "A value is trying to be set on a copy of a slice from a DataFrame.\n",
            "Try using .loc[row_indexer,col_indexer] = value instead\n",
            "\n",
            "See the caveats in the documentation: http://pandas.pydata.org/pandas-docs/stable/indexing.html#indexing-view-versus-copy\n",
            "  This is separate from the ipykernel package so we can avoid doing imports until\n",
            "/usr/local/lib/python3.6/dist-packages/ipykernel_launcher.py:4: SettingWithCopyWarning: \n",
            "A value is trying to be set on a copy of a slice from a DataFrame.\n",
            "Try using .loc[row_indexer,col_indexer] = value instead\n",
            "\n",
            "See the caveats in the documentation: http://pandas.pydata.org/pandas-docs/stable/indexing.html#indexing-view-versus-copy\n",
            "  after removing the cwd from sys.path.\n"
          ],
          "name": "stderr"
        },
        {
          "output_type": "execute_result",
          "data": {
            "text/html": [
              "<div>\n",
              "<style scoped>\n",
              "    .dataframe tbody tr th:only-of-type {\n",
              "        vertical-align: middle;\n",
              "    }\n",
              "\n",
              "    .dataframe tbody tr th {\n",
              "        vertical-align: top;\n",
              "    }\n",
              "\n",
              "    .dataframe thead th {\n",
              "        text-align: right;\n",
              "    }\n",
              "</style>\n",
              "<table border=\"1\" class=\"dataframe\">\n",
              "  <thead>\n",
              "    <tr style=\"text-align: right;\">\n",
              "      <th></th>\n",
              "      <th>HomeTeam</th>\n",
              "      <th>AwayTeam</th>\n",
              "      <th>Result_XGB</th>\n",
              "      <th>Result_knn</th>\n",
              "      <th>Result_logreg</th>\n",
              "    </tr>\n",
              "  </thead>\n",
              "  <tbody>\n",
              "    <tr>\n",
              "      <th>933</th>\n",
              "      <td>West Ham</td>\n",
              "      <td>West Brom</td>\n",
              "      <td>1</td>\n",
              "      <td>-1</td>\n",
              "      <td>-1</td>\n",
              "    </tr>\n",
              "    <tr>\n",
              "      <th>932</th>\n",
              "      <td>Arsenal</td>\n",
              "      <td>Man United</td>\n",
              "      <td>1</td>\n",
              "      <td>1</td>\n",
              "      <td>1</td>\n",
              "    </tr>\n",
              "    <tr>\n",
              "      <th>931</th>\n",
              "      <td>Liverpool</td>\n",
              "      <td>Bournemouth</td>\n",
              "      <td>1</td>\n",
              "      <td>1</td>\n",
              "      <td>1</td>\n",
              "    </tr>\n",
              "    <tr>\n",
              "      <th>930</th>\n",
              "      <td>Man City</td>\n",
              "      <td>West Ham</td>\n",
              "      <td>1</td>\n",
              "      <td>1</td>\n",
              "      <td>1</td>\n",
              "    </tr>\n",
              "    <tr>\n",
              "      <th>929</th>\n",
              "      <td>Man United</td>\n",
              "      <td>Leicester</td>\n",
              "      <td>1</td>\n",
              "      <td>1</td>\n",
              "      <td>1</td>\n",
              "    </tr>\n",
              "  </tbody>\n",
              "</table>\n",
              "</div>"
            ],
            "text/plain": [
              "       HomeTeam     AwayTeam  Result_XGB  Result_knn  Result_logreg\n",
              "933    West Ham    West Brom           1          -1             -1\n",
              "932     Arsenal   Man United           1           1              1\n",
              "931   Liverpool  Bournemouth           1           1              1\n",
              "930    Man City     West Ham           1           1              1\n",
              "929  Man United    Leicester           1           1              1"
            ]
          },
          "metadata": {
            "tags": []
          },
          "execution_count": 125
        }
      ]
    },
    {
      "metadata": {
        "id": "6E2av4Q23Bp8",
        "colab_type": "text"
      },
      "cell_type": "markdown",
      "source": [
        "##Ways to improve our accuracy in the future\n",
        "\n",
        "\n",
        "\n",
        "###Including the current player strength of each of the team. Some team have players that are injured and will definitely affect the team performance. Also, we can include the team's other game statistics like passes, corners, possession, and so on.\n",
        "\n",
        "\n",
        "\n"
      ]
    }
  ]
}